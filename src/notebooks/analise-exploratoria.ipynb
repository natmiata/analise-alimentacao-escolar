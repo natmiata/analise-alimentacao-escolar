{
 "cells": [
  {
   "cell_type": "markdown",
   "id": "c2c68c41-9ce0-4587-9469-acddefcb50f4",
   "metadata": {},
   "source": [
    "<h2> Análise dos Gastos com Alimentação nas Escolas Municipais de São Paulo </h2>\n",
    "A alimentação escolar é importante para o desenvolvimento de crianças e jovens em todo o mundo, pois além de motivar muitos alunos a frequentar a escola, ela também apoia os pais que não possuem condições financeiras de fornecer alimentação. <br><br>\n",
    "O <b> objetivo </b> deste notebook é explorar dados do Portal de Transparência disponibilizados pelo Tribunal de Contas do Estado de São Paulo, com gastos em diversos aos municipios aos que Campinas é região imediata, para os anos de 2019, 2020, 2021 e 2022. E buscar entender se houve alguma modificação entre a pré pandemia, pandemia e pós pandemia em relação aos gastos e seus fornecedores."
   ]
  },
  {
   "cell_type": "code",
   "execution_count": 1,
   "id": "1ae4c62d-402c-43cb-a92a-842fbd4d349a",
   "metadata": {
    "tags": []
   },
   "outputs": [],
   "source": [
    "from funcoes import *"
   ]
  },
  {
   "cell_type": "code",
   "execution_count": 2,
   "id": "d7bcae53-a26f-4fb5-b443-841b268c3064",
   "metadata": {
    "tags": []
   },
   "outputs": [],
   "source": [
    "df = pd.read_csv('/home/natasha/Documentos/Pessoal/analise-alimentacao-escolar/src/notebooks/df_full_campinas.csv').drop(['index'],axis=1)"
   ]
  },
  {
   "cell_type": "code",
   "execution_count": 3,
   "id": "306c6837-51db-407f-be85-f125c842ca1d",
   "metadata": {
    "tags": []
   },
   "outputs": [
    {
     "data": {
      "text/html": [
       "<div>\n",
       "<style scoped>\n",
       "    .dataframe tbody tr th:only-of-type {\n",
       "        vertical-align: middle;\n",
       "    }\n",
       "\n",
       "    .dataframe tbody tr th {\n",
       "        vertical-align: top;\n",
       "    }\n",
       "\n",
       "    .dataframe thead th {\n",
       "        text-align: right;\n",
       "    }\n",
       "</style>\n",
       "<table border=\"1\" class=\"dataframe\">\n",
       "  <thead>\n",
       "    <tr style=\"text-align: right;\">\n",
       "      <th></th>\n",
       "      <th>id_despesa_detalhe</th>\n",
       "      <th>ano_exercicio</th>\n",
       "      <th>ds_municipio</th>\n",
       "      <th>ds_orgao</th>\n",
       "      <th>mes_referencia</th>\n",
       "      <th>mes_ref_extenso</th>\n",
       "      <th>tp_despesa</th>\n",
       "      <th>nr_empenho</th>\n",
       "      <th>identificador_despesa</th>\n",
       "      <th>ds_despesa</th>\n",
       "      <th>dt_emissao_despesa</th>\n",
       "      <th>vl_despesa</th>\n",
       "      <th>ds_funcao_governo</th>\n",
       "      <th>ds_subfuncao_governo</th>\n",
       "      <th>cd_programa</th>\n",
       "      <th>ds_programa</th>\n",
       "      <th>cd_acao</th>\n",
       "      <th>ds_acao</th>\n",
       "      <th>ds_fonte_recurso</th>\n",
       "      <th>ds_cd_aplicacao_fixo</th>\n",
       "      <th>ds_modalidade_lic</th>\n",
       "      <th>ds_elemento</th>\n",
       "      <th>historico_despesa</th>\n",
       "    </tr>\n",
       "  </thead>\n",
       "  <tbody>\n",
       "    <tr>\n",
       "      <th>0</th>\n",
       "      <td>424887932</td>\n",
       "      <td>2019</td>\n",
       "      <td>PAULINIA</td>\n",
       "      <td>PREFEITURA MUNICIPAL DE PAULINIA</td>\n",
       "      <td>1</td>\n",
       "      <td>JANEIRO</td>\n",
       "      <td>EMPENHADO</td>\n",
       "      <td>000900-2019</td>\n",
       "      <td>IDENTIFICACAO ESPECIAL - SEM CPF/CNPJ - 000000...</td>\n",
       "      <td>SERVIDORES MUNICIPAIS DE PAULINIA</td>\n",
       "      <td>31/01/2019</td>\n",
       "      <td>6473</td>\n",
       "      <td>EDUCACAO</td>\n",
       "      <td>ALIMENTACAO E NUTRICAO</td>\n",
       "      <td>9</td>\n",
       "      <td>EDUCACAO TOTAL</td>\n",
       "      <td>2015</td>\n",
       "      <td>MANUTENCAO DA MERENDA ESCOLAR</td>\n",
       "      <td>TESOURO</td>\n",
       "      <td>0110 - GERAL</td>\n",
       "      <td>OUTROS/NAO APLICAVEL</td>\n",
       "      <td>31901145 - FERIAS - ABONO CONSTITUCIONAL</td>\n",
       "      <td>FOLHA DE PAGAMENTO, REFERENTE A JANEIRO/2019. ...</td>\n",
       "    </tr>\n",
       "    <tr>\n",
       "      <th>1</th>\n",
       "      <td>424888445</td>\n",
       "      <td>2019</td>\n",
       "      <td>PAULINIA</td>\n",
       "      <td>PREFEITURA MUNICIPAL DE PAULINIA</td>\n",
       "      <td>1</td>\n",
       "      <td>JANEIRO</td>\n",
       "      <td>EMPENHADO</td>\n",
       "      <td>001095-2019</td>\n",
       "      <td>CNPJ - PESSOA JURIDICA - 29979036000140</td>\n",
       "      <td>INSTITUTO NACIONAL DO SEGURO SOCIAL.</td>\n",
       "      <td>31/01/2019</td>\n",
       "      <td>1625</td>\n",
       "      <td>EDUCACAO</td>\n",
       "      <td>ALIMENTACAO E NUTRICAO</td>\n",
       "      <td>9</td>\n",
       "      <td>EDUCACAO TOTAL</td>\n",
       "      <td>2015</td>\n",
       "      <td>MANUTENCAO DA MERENDA ESCOLAR</td>\n",
       "      <td>TESOURO</td>\n",
       "      <td>0110 - GERAL</td>\n",
       "      <td>OUTROS/NAO APLICAVEL</td>\n",
       "      <td>31901302 - CONTRIBUICOES PREVIDENCIARIAS - INSS</td>\n",
       "      <td>FOLHA DE PAGAMENTO, REFERENTE A JANEIRO/2019. ...</td>\n",
       "    </tr>\n",
       "  </tbody>\n",
       "</table>\n",
       "</div>"
      ],
      "text/plain": [
       "   id_despesa_detalhe  ano_exercicio ds_municipio  \\\n",
       "0           424887932           2019     PAULINIA   \n",
       "1           424888445           2019     PAULINIA   \n",
       "\n",
       "                           ds_orgao  mes_referencia mes_ref_extenso  \\\n",
       "0  PREFEITURA MUNICIPAL DE PAULINIA               1         JANEIRO   \n",
       "1  PREFEITURA MUNICIPAL DE PAULINIA               1         JANEIRO   \n",
       "\n",
       "  tp_despesa    nr_empenho                              identificador_despesa  \\\n",
       "0  EMPENHADO   000900-2019  IDENTIFICACAO ESPECIAL - SEM CPF/CNPJ - 000000...   \n",
       "1  EMPENHADO   001095-2019            CNPJ - PESSOA JURIDICA - 29979036000140   \n",
       "\n",
       "                             ds_despesa dt_emissao_despesa  vl_despesa  \\\n",
       "0     SERVIDORES MUNICIPAIS DE PAULINIA         31/01/2019        6473   \n",
       "1  INSTITUTO NACIONAL DO SEGURO SOCIAL.         31/01/2019        1625   \n",
       "\n",
       "  ds_funcao_governo    ds_subfuncao_governo  cd_programa     ds_programa  \\\n",
       "0          EDUCACAO  ALIMENTACAO E NUTRICAO            9  EDUCACAO TOTAL   \n",
       "1          EDUCACAO  ALIMENTACAO E NUTRICAO            9  EDUCACAO TOTAL   \n",
       "\n",
       "   cd_acao                        ds_acao ds_fonte_recurso  \\\n",
       "0     2015  MANUTENCAO DA MERENDA ESCOLAR          TESOURO   \n",
       "1     2015  MANUTENCAO DA MERENDA ESCOLAR          TESOURO   \n",
       "\n",
       "  ds_cd_aplicacao_fixo     ds_modalidade_lic  \\\n",
       "0         0110 - GERAL  OUTROS/NAO APLICAVEL   \n",
       "1         0110 - GERAL  OUTROS/NAO APLICAVEL   \n",
       "\n",
       "                                       ds_elemento  \\\n",
       "0         31901145 - FERIAS - ABONO CONSTITUCIONAL   \n",
       "1  31901302 - CONTRIBUICOES PREVIDENCIARIAS - INSS   \n",
       "\n",
       "                                   historico_despesa  \n",
       "0  FOLHA DE PAGAMENTO, REFERENTE A JANEIRO/2019. ...  \n",
       "1  FOLHA DE PAGAMENTO, REFERENTE A JANEIRO/2019. ...  "
      ]
     },
     "execution_count": 3,
     "metadata": {},
     "output_type": "execute_result"
    }
   ],
   "source": [
    "df.head(2)"
   ]
  },
  {
   "cell_type": "markdown",
   "id": "29cabaee-6f21-41de-806c-9429cd21c5f4",
   "metadata": {},
   "source": [
    "O dataset para os anos respectivos e munícipios diretos a Campinas possui aproximadamente 60.636 registros."
   ]
  },
  {
   "cell_type": "code",
   "execution_count": 4,
   "id": "ed9d348a-b051-4f5c-8023-6392737d91be",
   "metadata": {
    "tags": []
   },
   "outputs": [
    {
     "data": {
      "text/plain": [
       "(60636, 23)"
      ]
     },
     "execution_count": 4,
     "metadata": {},
     "output_type": "execute_result"
    }
   ],
   "source": [
    "df.shape"
   ]
  },
  {
   "cell_type": "markdown",
   "id": "830c9b9d-4e7c-459c-b44a-bb14d2ab3a82",
   "metadata": {},
   "source": [
    "Arthur Nogueira e Campinas representam 30% de toda a base, será que em relação a gastos também? <br>\n",
    "Com 17 municipios únicos, lembrando que Nova Odessa não houve nenhuma ocorrência para os filtros previamente feitos na etapa de tratamento de dados."
   ]
  },
  {
   "cell_type": "code",
   "execution_count": 5,
   "id": "c00d1571-a30e-445c-b7c2-59adaca8a649",
   "metadata": {
    "tags": []
   },
   "outputs": [
    {
     "data": {
      "text/plain": [
       "ARTUR NOGUEIRA            0.168959\n",
       "CAMPINAS                  0.133996\n",
       "VINHEDO                   0.095405\n",
       "AMERICANA                 0.077050\n",
       "SANTA BARBARA D OESTE     0.072449\n",
       "SANTO ANTONIO DE POSSE    0.071162\n",
       "PEDREIRA                  0.070618\n",
       "JAGUARIUNA                0.050564\n",
       "HOLAMBRA                  0.050020\n",
       "COSMOPOLIS                0.040141\n",
       "MONTE MOR                 0.030394\n",
       "VALINHOS                  0.030164\n",
       "ELIAS FAUSTO              0.029784\n",
       "PAULINIA                  0.028366\n",
       "SUMARE                    0.021984\n",
       "HORTOLANDIA               0.015832\n",
       "INDAIATUBA                0.013111\n",
       "Name: ds_municipio, dtype: float64"
      ]
     },
     "execution_count": 5,
     "metadata": {},
     "output_type": "execute_result"
    }
   ],
   "source": [
    "df.ds_municipio.value_counts(normalize=True)"
   ]
  },
  {
   "cell_type": "code",
   "execution_count": 6,
   "id": "2016e373-4288-4aa3-9f55-0d0dd0f31dc8",
   "metadata": {
    "tags": []
   },
   "outputs": [
    {
     "data": {
      "text/plain": [
       "17"
      ]
     },
     "execution_count": 6,
     "metadata": {},
     "output_type": "execute_result"
    }
   ],
   "source": [
    "df.ds_municipio.nunique()"
   ]
  },
  {
   "cell_type": "markdown",
   "id": "f9f94755-d47a-4a1c-b3f0-aceb8e465823",
   "metadata": {},
   "source": [
    "Podemos verificar que em 2020 é onde obtivemos menos registros relacionados a refeição, coincidentemente no ínicio da pandemia, informação a qual será melhor explorada adiante."
   ]
  },
  {
   "cell_type": "code",
   "execution_count": 7,
   "id": "3416999f-f94f-403b-85db-b81f99c9a41a",
   "metadata": {
    "tags": []
   },
   "outputs": [
    {
     "data": {
      "text/plain": [
       "2022    0.373672\n",
       "2019    0.283132\n",
       "2021    0.215351\n",
       "2020    0.127845\n",
       "Name: ano_exercicio, dtype: float64"
      ]
     },
     "execution_count": 7,
     "metadata": {},
     "output_type": "execute_result"
    }
   ],
   "source": [
    "df.ano_exercicio.value_counts(normalize=True)"
   ]
  },
  {
   "cell_type": "code",
   "execution_count": 8,
   "id": "ea8c61e8-4ffe-4fba-9998-c47fb459c86e",
   "metadata": {
    "tags": []
   },
   "outputs": [
    {
     "data": {
      "text/plain": [
       "ALIMENTACAO E NUTRICAO    60636\n",
       "Name: ds_subfuncao_governo, dtype: int64"
      ]
     },
     "execution_count": 8,
     "metadata": {},
     "output_type": "execute_result"
    }
   ],
   "source": [
    "df.ds_subfuncao_governo.value_counts()"
   ]
  },
  {
   "cell_type": "code",
   "execution_count": 9,
   "id": "0d66ee89-d1ed-4aa1-9188-ff955cf689cb",
   "metadata": {
    "tags": []
   },
   "outputs": [
    {
     "data": {
      "text/plain": [
       "DISTRIBUIDORA NANCY LTDA                                 1987\n",
       "MODOLOCAMPI AGRICOLA LTDA                                1517\n",
       "NUTRIPLUS ALIMENTACAO E TECNOLOGIA LTDA                  1489\n",
       "NUTRICIONALE COMERCIO DE ALIMENTOS LTDA                  1347\n",
       "DALEFRUT COMERCIO DE PRODUTOS ALIMENTICIOS EIRELI EPP    1204\n",
       "                                                         ... \n",
       "PREDILECTA ALIMENTOS LTDA                                   1\n",
       "MATEUS VILANOVA TELLE 36276307858                           1\n",
       "D  P  QUARTAROLO GERENCIAMENTO DE FROTAS EIRELI             1\n",
       "INOVAR COMERCIO ONLINE DE METAIS E FERRAGENS EIREL          1\n",
       "ANGELICA VIVIANE SIMPLICIO LOPEZ                            1\n",
       "Name: ds_despesa, Length: 825, dtype: int64"
      ]
     },
     "execution_count": 9,
     "metadata": {},
     "output_type": "execute_result"
    }
   ],
   "source": [
    "df.ds_despesa.value_counts()"
   ]
  },
  {
   "cell_type": "code",
   "execution_count": 10,
   "id": "372ded99-a0bb-4090-bff7-ac7cd794bff5",
   "metadata": {
    "tags": []
   },
   "outputs": [
    {
     "data": {
      "text/plain": [
       "MANUTENCAO DA MERENDA ESCOLAR                                         10919\n",
       "MANUTENCAO DAS ATIVIDADES                                              9008\n",
       "MANUTENCAO DOS SERVICOS                                                8092\n",
       "PROMOVER E GARANTIR MERENDA ESCOLAR A TODAS AS UNIDADES ESCOLARES      4990\n",
       "MANUTENCAO DA ASSISTENCIA AO EDUCANDO                                  4646\n",
       "PROGRAMA MERENDA ESCOLAR                                               4239\n",
       "ALIMENTACAO ESCOLAR                                                    3411\n",
       "GESTAO DO PROGRAMA DE ALIMENTACAO ESCOLAR                              3066\n",
       "*** NAO CONSTA NO CADASTRO ***                                         2712\n",
       "DISTRIBUICAO DE MERENDA ESCOLAR NA REDE PUBLICA                        1843\n",
       "MANUTENCAO DAS ATIVIDADES - MERENDA - TESOURO                          1237\n",
       "GESTAO DE SERVICOS EDUCACIONAIS                                         976\n",
       "FORNECIMENTO DE ALIMENTACAO ESCOLAR                                     795\n",
       "MANUTENCAO DOS RECURSOS HUMANOS E FOLHA DE PAGAMENTOS                   795\n",
       "MERENDA ESCOLAR                                                         686\n",
       "FOME ZERO E AGRICULTURA SUSTENTAVEL                                     647\n",
       "MANUTENCAO DA MERENDA ESCOLAR PNAE                                      406\n",
       "MANUTENCAO DA MERENDA ESCOLAR SALARIO EDUCACAO - QSE                    376\n",
       "GESTAO DOS SERVICOS DE SAUDE                                            370\n",
       "FOLHA DE PAGAMENTO DE PESSOAL ATIVO                                     343\n",
       "MEDICAMENTOS DE ORDENS JUDICIAIS                                        182\n",
       "NUTRICAO ESCOLAR                                                        161\n",
       "MANUTENCAO DAS DESPESAS ADMINISTRATIVAS                                 142\n",
       "MANUTENCAO MERENDA ESCOLAR  DO ESTADO                                   115\n",
       "GESTAO DOS SERVICOS DE SAUDE - ALIMENTACAO E NUTRICAO                   110\n",
       "CORONAVIRUS - COVID 19                                                   79\n",
       "MANUTENCAO MERENDA ESCOLAR                                               59\n",
       "MELHORIA, DESENVOLVIMENTO E MANUTENCAO DAS ATIVIDADES EDUCACIONAIS       58\n",
       "MANUTENCAO DA DIVISAO DE ASSISTENCIA MEDICA                              43\n",
       "AQUISICAO DE EQUIPAMENTOS E MATERIAIS PERMANENTES                        33\n",
       "MANUTENCAO DO FUNDO DE SEGURANCA ALIMENTAR E NUTRICIONAL                 26\n",
       "PAGAMENTO DE BOLSA E/OU AUXILIO A ESTAGIARIOS                            24\n",
       "OVOS DE PASCOA PARA ALUNOS                                               22\n",
       "MANUTENCAO DA UNIDADE                                                    13\n",
       "DESPESAS SOB REGIME DE ADIANTAMENTO                                      12\n",
       "Name: ds_acao, dtype: int64"
      ]
     },
     "execution_count": 10,
     "metadata": {},
     "output_type": "execute_result"
    }
   ],
   "source": [
    "df.ds_acao.value_counts()"
   ]
  },
  {
   "cell_type": "markdown",
   "id": "841efec7-b914-466b-86b1-dd521df208b1",
   "metadata": {
    "tags": []
   },
   "source": [
    "<h3> Valor Gasto por Ano </h3>\n",
    "Houve um pequeno aumento do valor total com gastos relacionados a alimentação, entre 2019 e 2021, o gasto foi em média 900 bilhões, já em 2022 foi o ano em que houve mais gastos no total com 1.345.905.471 (trilhão). Será que abertura de escolas ou mudanças nos cardápios, estrutura da alimentação? (pesquisar)"
   ]
  },
  {
   "cell_type": "code",
   "execution_count": 11,
   "id": "14cacf9f-7a5b-4ab2-9914-4eacacc76ed3",
   "metadata": {
    "tags": []
   },
   "outputs": [
    {
     "data": {
      "text/html": [
       "<div>\n",
       "<style scoped>\n",
       "    .dataframe tbody tr th:only-of-type {\n",
       "        vertical-align: middle;\n",
       "    }\n",
       "\n",
       "    .dataframe tbody tr th {\n",
       "        vertical-align: top;\n",
       "    }\n",
       "\n",
       "    .dataframe thead tr th {\n",
       "        text-align: left;\n",
       "    }\n",
       "</style>\n",
       "<table border=\"1\" class=\"dataframe\">\n",
       "  <thead>\n",
       "    <tr>\n",
       "      <th></th>\n",
       "      <th>ano_exercicio</th>\n",
       "      <th colspan=\"5\" halign=\"left\">vl_despesa</th>\n",
       "    </tr>\n",
       "    <tr>\n",
       "      <th></th>\n",
       "      <th></th>\n",
       "      <th>mean</th>\n",
       "      <th>median</th>\n",
       "      <th>sum</th>\n",
       "      <th>max</th>\n",
       "      <th>min</th>\n",
       "    </tr>\n",
       "  </thead>\n",
       "  <tbody>\n",
       "    <tr>\n",
       "      <th>0</th>\n",
       "      <td>2019</td>\n",
       "      <td>48109.89</td>\n",
       "      <td>4567.50</td>\n",
       "      <td>825950652.00</td>\n",
       "      <td>19250000.00</td>\n",
       "      <td>-1307361.00</td>\n",
       "    </tr>\n",
       "    <tr>\n",
       "      <th>1</th>\n",
       "      <td>2020</td>\n",
       "      <td>124545.85</td>\n",
       "      <td>7669.00</td>\n",
       "      <td>965479448.00</td>\n",
       "      <td>25500000.00</td>\n",
       "      <td>-7255097.00</td>\n",
       "    </tr>\n",
       "    <tr>\n",
       "      <th>2</th>\n",
       "      <td>2021</td>\n",
       "      <td>67954.47</td>\n",
       "      <td>3969.00</td>\n",
       "      <td>887349405.00</td>\n",
       "      <td>28000000.00</td>\n",
       "      <td>-56001.00</td>\n",
       "    </tr>\n",
       "    <tr>\n",
       "      <th>3</th>\n",
       "      <td>2022</td>\n",
       "      <td>59400.89</td>\n",
       "      <td>5492.50</td>\n",
       "      <td>1345905471.00</td>\n",
       "      <td>20000000.00</td>\n",
       "      <td>-141388.00</td>\n",
       "    </tr>\n",
       "  </tbody>\n",
       "</table>\n",
       "</div>"
      ],
      "text/plain": [
       "  ano_exercicio vl_despesa                                                  \n",
       "                      mean   median            sum          max          min\n",
       "0          2019   48109.89  4567.50   825950652.00  19250000.00  -1307361.00\n",
       "1          2020  124545.85  7669.00   965479448.00  25500000.00  -7255097.00\n",
       "2          2021   67954.47  3969.00   887349405.00  28000000.00    -56001.00\n",
       "3          2022   59400.89  5492.50  1345905471.00  20000000.00   -141388.00"
      ]
     },
     "execution_count": 11,
     "metadata": {},
     "output_type": "execute_result"
    }
   ],
   "source": [
    "df.groupby('ano_exercicio').agg({'vl_despesa': ['mean', 'median', 'sum', 'max', 'min']}).apply(lambda s: s.apply('{0:.2f}'.format)).reset_index()"
   ]
  },
  {
   "cell_type": "code",
   "execution_count": 12,
   "id": "eed5c96b-e8de-47a2-a491-0f7712b0d49f",
   "metadata": {
    "tags": []
   },
   "outputs": [
    {
     "data": {
      "text/plain": [
       "<function matplotlib.pyplot.show(close=None, block=None)>"
      ]
     },
     "execution_count": 12,
     "metadata": {},
     "output_type": "execute_result"
    },
    {
     "data": {
      "image/png": "[encoded data removed]",
      "text/plain": [
       "<Figure size 1800x700 with 1 Axes>"
      ]
     },
     "metadata": {},
     "output_type": "display_data"
    }
   ],
   "source": [
    "df_soma = df.groupby('ano_exercicio').agg({'vl_despesa': 'sum'}).apply(lambda s: s.apply('{0:.2f}'.format)).reset_index()\n",
    "df_soma.rename(columns={'vl_despesa': 'vl_despesa_total'}, inplace = True)\n",
    "df_soma['vl_despesa_total'] = df_soma['vl_despesa_total'].astype(float)\n",
    "\n",
    "plot_bar(df_soma, 'ano_exercicio', 'vl_despesa_total', 'Total de Gastos com Alimentação Por Ano - Campinas', 'Ano')"
   ]
  },
  {
   "cell_type": "markdown",
   "id": "e1343320-9c81-4bbc-a618-37cb410dd21e",
   "metadata": {
    "tags": []
   },
   "source": [
    "<h3> Quantidade de Transações por Ano </h3>\n",
    "\n",
    "2020 foi o ano com menos transações únicas de despesas feitas relacionadas a alimentação escolar, com aproximadamente -54% de despesas referente ao ano de 2019, o que é curioso, pois os gastos totais obtiveram um leve crescimento. Em 2021 esse valor quase dobrou, lembrando que ainda estávamos em cenário pandêmico. <br>\n",
    "Todas as transações possuem id de identificação único."
   ]
  },
  {
   "cell_type": "code",
   "execution_count": 26,
   "id": "817da986-1c29-45e0-a230-78cc4eb7b3d5",
   "metadata": {
    "tags": []
   },
   "outputs": [
    {
     "data": {
      "text/plain": [
       "<function matplotlib.pyplot.show(close=None, block=None)>"
      ]
     },
     "execution_count": 26,
     "metadata": {},
     "output_type": "execute_result"
    },
    {
     "data": {
      "image/png": "[encoded data removed]",
      "text/plain": [
       "<Figure size 1800x700 with 1 Axes>"
      ]
     },
     "metadata": {},
     "output_type": "display_data"
    }
   ],
   "source": [
    "df_transacao = df.groupby('ano_exercicio').agg({'id_despesa_detalhe': 'count'}).apply(lambda s: s.apply('{0:.2f}'.format)).reset_index()\n",
    "df_transacao.rename(columns={'id_despesa_detalhe': 'qtd_despesas_totais'}, inplace = True)\n",
    "df_transacao['qtd_despesas_totais'] = df_transacao['qtd_despesas_totais'].astype(float)\n",
    "\n",
    "plot_bar(df_transacao, 'ano_exercicio', 'qtd_despesas_totais', 'Total de Despesas com Alimentação Por Ano - Campinas', 'Ano')"
   ]
  },
  {
   "cell_type": "code",
   "execution_count": 15,
   "id": "989264a6-56c9-4d75-9244-f80d2635c8c7",
   "metadata": {
    "tags": []
   },
   "outputs": [
    {
     "data": {
      "text/plain": [
       "60636"
      ]
     },
     "execution_count": 15,
     "metadata": {},
     "output_type": "execute_result"
    }
   ],
   "source": [
    "df.id_despesa_detalhe.nunique()"
   ]
  },
  {
   "cell_type": "code",
   "execution_count": 16,
   "id": "a9b75cfe-8138-4a16-baad-3b3136d0118c",
   "metadata": {
    "tags": []
   },
   "outputs": [
    {
     "data": {
      "text/plain": [
       "(60636, 23)"
      ]
     },
     "execution_count": 16,
     "metadata": {},
     "output_type": "execute_result"
    }
   ],
   "source": [
    "df.shape"
   ]
  },
  {
   "cell_type": "markdown",
   "id": "d86cfdbc-06b2-4e6a-9cfb-962fedfae614",
   "metadata": {},
   "source": [
    "<h3> Perguntas </h3>\n",
    "- Faz sentido mantermos todos as ações `(ds_acao)` no estudo? Como manutenção da unidade, manutenção das despesas administrativas? <br>\n",
    "- Por que no valor mínimo de despesas temos valores negativos? Talvez alguma restituição de valores?"
   ]
  }
 ],
 "metadata": {
  "kernelspec": {
   "display_name": "tcc",
   "language": "python",
   "name": "tcc"
  },
  "language_info": {
   "codemirror_mode": {
    "name": "ipython",
    "version": 3
   },
   "file_extension": ".py",
   "mimetype": "text/x-python",
   "name": "python",
   "nbconvert_exporter": "python",
   "pygments_lexer": "ipython3",
   "version": "3.8.10"
  }
 },
 "nbformat": 4,
 "nbformat_minor": 5
}

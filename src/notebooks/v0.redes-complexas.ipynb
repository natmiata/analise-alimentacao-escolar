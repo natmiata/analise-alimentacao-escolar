{
 "cells": [
  {
   "cell_type": "markdown",
   "id": "c1bcbb3c-e0cb-4326-91e8-72d2b08aca51",
   "metadata": {},
   "source": [
    "<h1> Redes Complexas </h1>\n",
    "Rede é uma forma relacional de organização e representação de dados discretos. Os dois conceitos mais importantes sobre redes são as entidades e os relacionamentos entre elas. As entidades são referidas como nós e os relacionamentos são conhecidos como arestas. "
   ]
  },
  {
   "cell_type": "code",
   "execution_count": 1,
   "id": "b6b44b27-5f40-4e26-934e-b50fbbd0a15c",
   "metadata": {
    "tags": []
   },
   "outputs": [],
   "source": [
    "import pandas as pd\n",
    "import networkx as nx"
   ]
  },
  {
   "cell_type": "code",
   "execution_count": 2,
   "id": "69559826-330b-4d74-99d0-9e3d522dd0a6",
   "metadata": {
    "tags": []
   },
   "outputs": [],
   "source": [
    "df = pd.read_csv('/home/natasha/Documentos/Pessoal/analise-alimentacao-escolar/src/notebooks/df_full_campinas.csv').drop(['index'],axis=1)"
   ]
  },
  {
   "cell_type": "code",
   "execution_count": 3,
   "id": "793a8e8a-0f74-46d1-b0f8-9c52b3fac20d",
   "metadata": {
    "tags": []
   },
   "outputs": [],
   "source": [
    "G = nx.DiGraph()"
   ]
  },
  {
   "cell_type": "code",
   "execution_count": 4,
   "id": "6dae29b1-b51a-407f-b751-a28c057ecaf4",
   "metadata": {
    "tags": []
   },
   "outputs": [
    {
     "data": {
      "text/html": [
       "<div>\n",
       "<style scoped>\n",
       "    .dataframe tbody tr th:only-of-type {\n",
       "        vertical-align: middle;\n",
       "    }\n",
       "\n",
       "    .dataframe tbody tr th {\n",
       "        vertical-align: top;\n",
       "    }\n",
       "\n",
       "    .dataframe thead th {\n",
       "        text-align: right;\n",
       "    }\n",
       "</style>\n",
       "<table border=\"1\" class=\"dataframe\">\n",
       "  <thead>\n",
       "    <tr style=\"text-align: right;\">\n",
       "      <th></th>\n",
       "      <th>id_despesa_detalhe</th>\n",
       "      <th>ano_exercicio</th>\n",
       "      <th>ds_municipio</th>\n",
       "      <th>ds_orgao</th>\n",
       "      <th>mes_referencia</th>\n",
       "      <th>mes_ref_extenso</th>\n",
       "      <th>tp_despesa</th>\n",
       "      <th>nr_empenho</th>\n",
       "      <th>identificador_despesa</th>\n",
       "      <th>ds_despesa</th>\n",
       "      <th>...</th>\n",
       "      <th>ds_subfuncao_governo</th>\n",
       "      <th>cd_programa</th>\n",
       "      <th>ds_programa</th>\n",
       "      <th>cd_acao</th>\n",
       "      <th>ds_acao</th>\n",
       "      <th>ds_fonte_recurso</th>\n",
       "      <th>ds_cd_aplicacao_fixo</th>\n",
       "      <th>ds_modalidade_lic</th>\n",
       "      <th>ds_elemento</th>\n",
       "      <th>historico_despesa</th>\n",
       "    </tr>\n",
       "  </thead>\n",
       "  <tbody>\n",
       "    <tr>\n",
       "      <th>0</th>\n",
       "      <td>424887932</td>\n",
       "      <td>2019</td>\n",
       "      <td>PAULINIA</td>\n",
       "      <td>PREFEITURA MUNICIPAL DE PAULINIA</td>\n",
       "      <td>1</td>\n",
       "      <td>JANEIRO</td>\n",
       "      <td>EMPENHADO</td>\n",
       "      <td>000900-2019</td>\n",
       "      <td>IDENTIFICACAO ESPECIAL - SEM CPF/CNPJ - 000000...</td>\n",
       "      <td>SERVIDORES MUNICIPAIS DE PAULINIA</td>\n",
       "      <td>...</td>\n",
       "      <td>ALIMENTACAO E NUTRICAO</td>\n",
       "      <td>9</td>\n",
       "      <td>EDUCACAO TOTAL</td>\n",
       "      <td>2015</td>\n",
       "      <td>MANUTENCAO DA MERENDA ESCOLAR</td>\n",
       "      <td>TESOURO</td>\n",
       "      <td>0110 - GERAL</td>\n",
       "      <td>OUTROS/NAO APLICAVEL</td>\n",
       "      <td>31901145 - FERIAS - ABONO CONSTITUCIONAL</td>\n",
       "      <td>FOLHA DE PAGAMENTO, REFERENTE A JANEIRO/2019. ...</td>\n",
       "    </tr>\n",
       "    <tr>\n",
       "      <th>1</th>\n",
       "      <td>424888445</td>\n",
       "      <td>2019</td>\n",
       "      <td>PAULINIA</td>\n",
       "      <td>PREFEITURA MUNICIPAL DE PAULINIA</td>\n",
       "      <td>1</td>\n",
       "      <td>JANEIRO</td>\n",
       "      <td>EMPENHADO</td>\n",
       "      <td>001095-2019</td>\n",
       "      <td>CNPJ - PESSOA JURIDICA - 29979036000140</td>\n",
       "      <td>INSTITUTO NACIONAL DO SEGURO SOCIAL.</td>\n",
       "      <td>...</td>\n",
       "      <td>ALIMENTACAO E NUTRICAO</td>\n",
       "      <td>9</td>\n",
       "      <td>EDUCACAO TOTAL</td>\n",
       "      <td>2015</td>\n",
       "      <td>MANUTENCAO DA MERENDA ESCOLAR</td>\n",
       "      <td>TESOURO</td>\n",
       "      <td>0110 - GERAL</td>\n",
       "      <td>OUTROS/NAO APLICAVEL</td>\n",
       "      <td>31901302 - CONTRIBUICOES PREVIDENCIARIAS - INSS</td>\n",
       "      <td>FOLHA DE PAGAMENTO, REFERENTE A JANEIRO/2019. ...</td>\n",
       "    </tr>\n",
       "    <tr>\n",
       "      <th>2</th>\n",
       "      <td>424888911</td>\n",
       "      <td>2019</td>\n",
       "      <td>PAULINIA</td>\n",
       "      <td>PREFEITURA MUNICIPAL DE PAULINIA</td>\n",
       "      <td>1</td>\n",
       "      <td>JANEIRO</td>\n",
       "      <td>EMPENHADO</td>\n",
       "      <td>000520-2019</td>\n",
       "      <td>CNPJ - PESSOA JURIDICA - 09445502000109</td>\n",
       "      <td>SOLUCOES SERVICOS TERCEIRIZADOS - EIRELI</td>\n",
       "      <td>...</td>\n",
       "      <td>ALIMENTACAO E NUTRICAO</td>\n",
       "      <td>9</td>\n",
       "      <td>EDUCACAO TOTAL</td>\n",
       "      <td>2015</td>\n",
       "      <td>MANUTENCAO DA MERENDA ESCOLAR</td>\n",
       "      <td>TESOURO</td>\n",
       "      <td>0110 - GERAL</td>\n",
       "      <td>BEC-BOLSA ELETRONICA DE COMPRAS</td>\n",
       "      <td>33903941 - FORNECIMENTO DE ALIMENTACAO</td>\n",
       "      <td>CONTRATACAO DE EMPRESA ESPECIALIZADA NA PRESTA...</td>\n",
       "    </tr>\n",
       "    <tr>\n",
       "      <th>3</th>\n",
       "      <td>424889312</td>\n",
       "      <td>2019</td>\n",
       "      <td>PAULINIA</td>\n",
       "      <td>PREFEITURA MUNICIPAL DE PAULINIA</td>\n",
       "      <td>1</td>\n",
       "      <td>JANEIRO</td>\n",
       "      <td>EMPENHADO</td>\n",
       "      <td>001066-2019</td>\n",
       "      <td>CNPJ - PESSOA JURIDICA - 00360305000104</td>\n",
       "      <td>CAIXA ECONOMICA FEDERAL</td>\n",
       "      <td>...</td>\n",
       "      <td>ALIMENTACAO E NUTRICAO</td>\n",
       "      <td>9</td>\n",
       "      <td>EDUCACAO TOTAL</td>\n",
       "      <td>2015</td>\n",
       "      <td>MANUTENCAO DA MERENDA ESCOLAR</td>\n",
       "      <td>TESOURO</td>\n",
       "      <td>0110 - GERAL</td>\n",
       "      <td>OUTROS/NAO APLICAVEL</td>\n",
       "      <td>31901301 - FGTS</td>\n",
       "      <td>FOLHA DE PAGAMENTO, REFERENTE A JANEIRO/2019. ...</td>\n",
       "    </tr>\n",
       "    <tr>\n",
       "      <th>4</th>\n",
       "      <td>424889781</td>\n",
       "      <td>2019</td>\n",
       "      <td>PAULINIA</td>\n",
       "      <td>PREFEITURA MUNICIPAL DE PAULINIA</td>\n",
       "      <td>1</td>\n",
       "      <td>JANEIRO</td>\n",
       "      <td>EMPENHADO</td>\n",
       "      <td>000331-2019</td>\n",
       "      <td>CNPJ - PESSOA JURIDICA - 12047604000172</td>\n",
       "      <td>RUANA COMERCIAL LTDA</td>\n",
       "      <td>...</td>\n",
       "      <td>ALIMENTACAO E NUTRICAO</td>\n",
       "      <td>9</td>\n",
       "      <td>EDUCACAO TOTAL</td>\n",
       "      <td>2015</td>\n",
       "      <td>MANUTENCAO DA MERENDA ESCOLAR</td>\n",
       "      <td>TESOURO</td>\n",
       "      <td>0110 - GERAL</td>\n",
       "      <td>BEC-BOLSA ELETRONICA DE COMPRAS</td>\n",
       "      <td>33903022 - MATERIAL DE LIMPEZA E PRODUTOS DE H...</td>\n",
       "      <td>ESPONJA DUPLA FACE MULTIUSO COMPOSTA DE ESPUMA...</td>\n",
       "    </tr>\n",
       "  </tbody>\n",
       "</table>\n",
       "<p>5 rows × 23 columns</p>\n",
       "</div>"
      ],
      "text/plain": [
       "   id_despesa_detalhe  ano_exercicio ds_municipio  \\\n",
       "0           424887932           2019     PAULINIA   \n",
       "1           424888445           2019     PAULINIA   \n",
       "2           424888911           2019     PAULINIA   \n",
       "3           424889312           2019     PAULINIA   \n",
       "4           424889781           2019     PAULINIA   \n",
       "\n",
       "                           ds_orgao  mes_referencia mes_ref_extenso  \\\n",
       "0  PREFEITURA MUNICIPAL DE PAULINIA               1         JANEIRO   \n",
       "1  PREFEITURA MUNICIPAL DE PAULINIA               1         JANEIRO   \n",
       "2  PREFEITURA MUNICIPAL DE PAULINIA               1         JANEIRO   \n",
       "3  PREFEITURA MUNICIPAL DE PAULINIA               1         JANEIRO   \n",
       "4  PREFEITURA MUNICIPAL DE PAULINIA               1         JANEIRO   \n",
       "\n",
       "  tp_despesa    nr_empenho                              identificador_despesa  \\\n",
       "0  EMPENHADO   000900-2019  IDENTIFICACAO ESPECIAL - SEM CPF/CNPJ - 000000...   \n",
       "1  EMPENHADO   001095-2019            CNPJ - PESSOA JURIDICA - 29979036000140   \n",
       "2  EMPENHADO   000520-2019            CNPJ - PESSOA JURIDICA - 09445502000109   \n",
       "3  EMPENHADO   001066-2019            CNPJ - PESSOA JURIDICA - 00360305000104   \n",
       "4  EMPENHADO   000331-2019            CNPJ - PESSOA JURIDICA - 12047604000172   \n",
       "\n",
       "                                 ds_despesa  ...    ds_subfuncao_governo  \\\n",
       "0         SERVIDORES MUNICIPAIS DE PAULINIA  ...  ALIMENTACAO E NUTRICAO   \n",
       "1      INSTITUTO NACIONAL DO SEGURO SOCIAL.  ...  ALIMENTACAO E NUTRICAO   \n",
       "2  SOLUCOES SERVICOS TERCEIRIZADOS - EIRELI  ...  ALIMENTACAO E NUTRICAO   \n",
       "3                   CAIXA ECONOMICA FEDERAL  ...  ALIMENTACAO E NUTRICAO   \n",
       "4                      RUANA COMERCIAL LTDA  ...  ALIMENTACAO E NUTRICAO   \n",
       "\n",
       "   cd_programa     ds_programa cd_acao                        ds_acao  \\\n",
       "0            9  EDUCACAO TOTAL    2015  MANUTENCAO DA MERENDA ESCOLAR   \n",
       "1            9  EDUCACAO TOTAL    2015  MANUTENCAO DA MERENDA ESCOLAR   \n",
       "2            9  EDUCACAO TOTAL    2015  MANUTENCAO DA MERENDA ESCOLAR   \n",
       "3            9  EDUCACAO TOTAL    2015  MANUTENCAO DA MERENDA ESCOLAR   \n",
       "4            9  EDUCACAO TOTAL    2015  MANUTENCAO DA MERENDA ESCOLAR   \n",
       "\n",
       "  ds_fonte_recurso  ds_cd_aplicacao_fixo                ds_modalidade_lic  \\\n",
       "0          TESOURO          0110 - GERAL             OUTROS/NAO APLICAVEL   \n",
       "1          TESOURO          0110 - GERAL             OUTROS/NAO APLICAVEL   \n",
       "2          TESOURO          0110 - GERAL  BEC-BOLSA ELETRONICA DE COMPRAS   \n",
       "3          TESOURO          0110 - GERAL             OUTROS/NAO APLICAVEL   \n",
       "4          TESOURO          0110 - GERAL  BEC-BOLSA ELETRONICA DE COMPRAS   \n",
       "\n",
       "                                         ds_elemento  \\\n",
       "0           31901145 - FERIAS - ABONO CONSTITUCIONAL   \n",
       "1    31901302 - CONTRIBUICOES PREVIDENCIARIAS - INSS   \n",
       "2             33903941 - FORNECIMENTO DE ALIMENTACAO   \n",
       "3                                    31901301 - FGTS   \n",
       "4  33903022 - MATERIAL DE LIMPEZA E PRODUTOS DE H...   \n",
       "\n",
       "                                   historico_despesa  \n",
       "0  FOLHA DE PAGAMENTO, REFERENTE A JANEIRO/2019. ...  \n",
       "1  FOLHA DE PAGAMENTO, REFERENTE A JANEIRO/2019. ...  \n",
       "2  CONTRATACAO DE EMPRESA ESPECIALIZADA NA PRESTA...  \n",
       "3  FOLHA DE PAGAMENTO, REFERENTE A JANEIRO/2019. ...  \n",
       "4  ESPONJA DUPLA FACE MULTIUSO COMPOSTA DE ESPUMA...  \n",
       "\n",
       "[5 rows x 23 columns]"
      ]
     },
     "execution_count": 4,
     "metadata": {},
     "output_type": "execute_result"
    }
   ],
   "source": [
    "df.head()"
   ]
  },
  {
   "cell_type": "code",
   "execution_count": 5,
   "id": "e780e703-a3a0-4d99-a29a-54510aed1dcf",
   "metadata": {
    "tags": []
   },
   "outputs": [],
   "source": [
    "for _, row in df.iterrows():\n",
    "    # Montando um identificador único para cada despesa\n",
    "    id_despesa = row['id_despesa_detalhe']\n",
    "    origem = row['identificador_despesa']\n",
    "    destino = row['ds_orgao']\n",
    "\n",
    "    # Adicionando as arestas ao grafo\n",
    "    G.add_edge(origem, destino, weight=row['vl_despesa'], id_despesa=id_despesa)"
   ]
  },
  {
   "cell_type": "code",
   "execution_count": 6,
   "id": "47b8196d-4a5a-4b92-9715-876b73b25469",
   "metadata": {
    "tags": []
   },
   "outputs": [
    {
     "ename": "ModuleNotFoundError",
     "evalue": "No module named 'scipy'",
     "output_type": "error",
     "traceback": [
      "\u001b[0;31m---------------------------------------------------------------------------\u001b[0m",
      "\u001b[0;31mModuleNotFoundError\u001b[0m                       Traceback (most recent call last)",
      "Cell \u001b[0;32mIn[6], line 1\u001b[0m\n\u001b[0;32m----> 1\u001b[0m \u001b[43mnx\u001b[49m\u001b[38;5;241;43m.\u001b[39;49m\u001b[43mdraw\u001b[49m\u001b[43m(\u001b[49m\u001b[43mG\u001b[49m\u001b[43m,\u001b[49m\u001b[43m \u001b[49m\u001b[43mwith_labels\u001b[49m\u001b[38;5;241;43m=\u001b[39;49m\u001b[38;5;28;43;01mTrue\u001b[39;49;00m\u001b[43m)\u001b[49m\n",
      "File \u001b[0;32m~/.local/lib/python3.8/site-packages/networkx/drawing/nx_pylab.py:121\u001b[0m, in \u001b[0;36mdraw\u001b[0;34m(G, pos, ax, **kwds)\u001b[0m\n\u001b[1;32m    118\u001b[0m \u001b[38;5;28;01mif\u001b[39;00m \u001b[38;5;124m\"\u001b[39m\u001b[38;5;124mwith_labels\u001b[39m\u001b[38;5;124m\"\u001b[39m \u001b[38;5;129;01mnot\u001b[39;00m \u001b[38;5;129;01min\u001b[39;00m kwds:\n\u001b[1;32m    119\u001b[0m     kwds[\u001b[38;5;124m\"\u001b[39m\u001b[38;5;124mwith_labels\u001b[39m\u001b[38;5;124m\"\u001b[39m] \u001b[38;5;241m=\u001b[39m \u001b[38;5;124m\"\u001b[39m\u001b[38;5;124mlabels\u001b[39m\u001b[38;5;124m\"\u001b[39m \u001b[38;5;129;01min\u001b[39;00m kwds\n\u001b[0;32m--> 121\u001b[0m \u001b[43mdraw_networkx\u001b[49m\u001b[43m(\u001b[49m\u001b[43mG\u001b[49m\u001b[43m,\u001b[49m\u001b[43m \u001b[49m\u001b[43mpos\u001b[49m\u001b[38;5;241;43m=\u001b[39;49m\u001b[43mpos\u001b[49m\u001b[43m,\u001b[49m\u001b[43m \u001b[49m\u001b[43max\u001b[49m\u001b[38;5;241;43m=\u001b[39;49m\u001b[43max\u001b[49m\u001b[43m,\u001b[49m\u001b[43m \u001b[49m\u001b[38;5;241;43m*\u001b[39;49m\u001b[38;5;241;43m*\u001b[39;49m\u001b[43mkwds\u001b[49m\u001b[43m)\u001b[49m\n\u001b[1;32m    122\u001b[0m ax\u001b[38;5;241m.\u001b[39mset_axis_off()\n\u001b[1;32m    123\u001b[0m plt\u001b[38;5;241m.\u001b[39mdraw_if_interactive()\n",
      "File \u001b[0;32m~/.local/lib/python3.8/site-packages/networkx/drawing/nx_pylab.py:301\u001b[0m, in \u001b[0;36mdraw_networkx\u001b[0;34m(G, pos, arrows, with_labels, **kwds)\u001b[0m\n\u001b[1;32m    298\u001b[0m label_kwds \u001b[38;5;241m=\u001b[39m {k: v \u001b[38;5;28;01mfor\u001b[39;00m k, v \u001b[38;5;129;01min\u001b[39;00m kwds\u001b[38;5;241m.\u001b[39mitems() \u001b[38;5;28;01mif\u001b[39;00m k \u001b[38;5;129;01min\u001b[39;00m valid_label_kwds}\n\u001b[1;32m    300\u001b[0m \u001b[38;5;28;01mif\u001b[39;00m pos \u001b[38;5;129;01mis\u001b[39;00m \u001b[38;5;28;01mNone\u001b[39;00m:\n\u001b[0;32m--> 301\u001b[0m     pos \u001b[38;5;241m=\u001b[39m \u001b[43mnx\u001b[49m\u001b[38;5;241;43m.\u001b[39;49m\u001b[43mdrawing\u001b[49m\u001b[38;5;241;43m.\u001b[39;49m\u001b[43mspring_layout\u001b[49m\u001b[43m(\u001b[49m\u001b[43mG\u001b[49m\u001b[43m)\u001b[49m  \u001b[38;5;66;03m# default to spring layout\u001b[39;00m\n\u001b[1;32m    303\u001b[0m draw_networkx_nodes(G, pos, \u001b[38;5;241m*\u001b[39m\u001b[38;5;241m*\u001b[39mnode_kwds)\n\u001b[1;32m    304\u001b[0m draw_networkx_edges(G, pos, arrows\u001b[38;5;241m=\u001b[39marrows, \u001b[38;5;241m*\u001b[39m\u001b[38;5;241m*\u001b[39medge_kwds)\n",
      "File \u001b[0;32m~/.local/lib/python3.8/site-packages/networkx/utils/decorators.py:766\u001b[0m, in \u001b[0;36margmap.__call__.<locals>.func\u001b[0;34m(_argmap__wrapper, *args, **kwargs)\u001b[0m\n\u001b[1;32m    765\u001b[0m \u001b[38;5;28;01mdef\u001b[39;00m \u001b[38;5;21mfunc\u001b[39m(\u001b[38;5;241m*\u001b[39margs, __wrapper\u001b[38;5;241m=\u001b[39m\u001b[38;5;28;01mNone\u001b[39;00m, \u001b[38;5;241m*\u001b[39m\u001b[38;5;241m*\u001b[39mkwargs):\n\u001b[0;32m--> 766\u001b[0m     \u001b[38;5;28;01mreturn\u001b[39;00m \u001b[43margmap\u001b[49m\u001b[38;5;241;43m.\u001b[39;49m\u001b[43m_lazy_compile\u001b[49m\u001b[43m(\u001b[49m\u001b[43m__wrapper\u001b[49m\u001b[43m)\u001b[49m\u001b[43m(\u001b[49m\u001b[38;5;241;43m*\u001b[39;49m\u001b[43margs\u001b[49m\u001b[43m,\u001b[49m\u001b[43m \u001b[49m\u001b[38;5;241;43m*\u001b[39;49m\u001b[38;5;241;43m*\u001b[39;49m\u001b[43mkwargs\u001b[49m\u001b[43m)\u001b[49m\n",
      "File \u001b[0;32m<class 'networkx.utils.decorators.argmap'> compilation 4:4\u001b[0m, in \u001b[0;36margmap_spring_layout_1\u001b[0;34m(G, k, pos, fixed, iterations, threshold, weight, scale, center, dim, seed)\u001b[0m\n\u001b[1;32m      2\u001b[0m \u001b[38;5;28;01mimport\u001b[39;00m \u001b[38;5;21;01mcollections\u001b[39;00m\n\u001b[1;32m      3\u001b[0m \u001b[38;5;28;01mimport\u001b[39;00m \u001b[38;5;21;01mgzip\u001b[39;00m\n\u001b[0;32m----> 4\u001b[0m \u001b[38;5;28;01mimport\u001b[39;00m \u001b[38;5;21;01minspect\u001b[39;00m\n\u001b[1;32m      5\u001b[0m \u001b[38;5;28;01mimport\u001b[39;00m \u001b[38;5;21;01mitertools\u001b[39;00m\n\u001b[1;32m      6\u001b[0m \u001b[38;5;28;01mimport\u001b[39;00m \u001b[38;5;21;01mre\u001b[39;00m\n",
      "File \u001b[0;32m~/.local/lib/python3.8/site-packages/networkx/drawing/layout.py:477\u001b[0m, in \u001b[0;36mspring_layout\u001b[0;34m(G, k, pos, fixed, iterations, threshold, weight, scale, center, dim, seed)\u001b[0m\n\u001b[1;32m    475\u001b[0m \u001b[38;5;28;01mif\u001b[39;00m \u001b[38;5;28mlen\u001b[39m(G) \u001b[38;5;241m<\u001b[39m \u001b[38;5;241m500\u001b[39m:  \u001b[38;5;66;03m# sparse solver for large graphs\u001b[39;00m\n\u001b[1;32m    476\u001b[0m     \u001b[38;5;28;01mraise\u001b[39;00m \u001b[38;5;167;01mValueError\u001b[39;00m\n\u001b[0;32m--> 477\u001b[0m A \u001b[38;5;241m=\u001b[39m \u001b[43mnx\u001b[49m\u001b[38;5;241;43m.\u001b[39;49m\u001b[43mto_scipy_sparse_array\u001b[49m\u001b[43m(\u001b[49m\u001b[43mG\u001b[49m\u001b[43m,\u001b[49m\u001b[43m \u001b[49m\u001b[43mweight\u001b[49m\u001b[38;5;241;43m=\u001b[39;49m\u001b[43mweight\u001b[49m\u001b[43m,\u001b[49m\u001b[43m \u001b[49m\u001b[43mdtype\u001b[49m\u001b[38;5;241;43m=\u001b[39;49m\u001b[38;5;124;43m\"\u001b[39;49m\u001b[38;5;124;43mf\u001b[39;49m\u001b[38;5;124;43m\"\u001b[39;49m\u001b[43m)\u001b[49m\n\u001b[1;32m    478\u001b[0m \u001b[38;5;28;01mif\u001b[39;00m k \u001b[38;5;129;01mis\u001b[39;00m \u001b[38;5;28;01mNone\u001b[39;00m \u001b[38;5;129;01mand\u001b[39;00m fixed \u001b[38;5;129;01mis\u001b[39;00m \u001b[38;5;129;01mnot\u001b[39;00m \u001b[38;5;28;01mNone\u001b[39;00m:\n\u001b[1;32m    479\u001b[0m     \u001b[38;5;66;03m# We must adjust k by domain size for layouts not near 1x1\u001b[39;00m\n\u001b[1;32m    480\u001b[0m     nnodes, _ \u001b[38;5;241m=\u001b[39m A\u001b[38;5;241m.\u001b[39mshape\n",
      "File \u001b[0;32m~/.local/lib/python3.8/site-packages/networkx/convert_matrix.py:546\u001b[0m, in \u001b[0;36mto_scipy_sparse_array\u001b[0;34m(G, nodelist, dtype, weight, format)\u001b[0m\n\u001b[1;32m    466\u001b[0m \u001b[38;5;28;01mdef\u001b[39;00m \u001b[38;5;21mto_scipy_sparse_array\u001b[39m(G, nodelist\u001b[38;5;241m=\u001b[39m\u001b[38;5;28;01mNone\u001b[39;00m, dtype\u001b[38;5;241m=\u001b[39m\u001b[38;5;28;01mNone\u001b[39;00m, weight\u001b[38;5;241m=\u001b[39m\u001b[38;5;124m\"\u001b[39m\u001b[38;5;124mweight\u001b[39m\u001b[38;5;124m\"\u001b[39m, \u001b[38;5;28mformat\u001b[39m\u001b[38;5;241m=\u001b[39m\u001b[38;5;124m\"\u001b[39m\u001b[38;5;124mcsr\u001b[39m\u001b[38;5;124m\"\u001b[39m):\n\u001b[1;32m    467\u001b[0m \u001b[38;5;250m    \u001b[39m\u001b[38;5;124;03m\"\"\"Returns the graph adjacency matrix as a SciPy sparse array.\u001b[39;00m\n\u001b[1;32m    468\u001b[0m \n\u001b[1;32m    469\u001b[0m \u001b[38;5;124;03m    Parameters\u001b[39;00m\n\u001b[0;32m   (...)\u001b[0m\n\u001b[1;32m    544\u001b[0m \u001b[38;5;124;03m       https://docs.scipy.org/doc/scipy/reference/sparse.html\u001b[39;00m\n\u001b[1;32m    545\u001b[0m \u001b[38;5;124;03m    \"\"\"\u001b[39;00m\n\u001b[0;32m--> 546\u001b[0m     \u001b[38;5;28;01mimport\u001b[39;00m \u001b[38;5;21;01mscipy\u001b[39;00m \u001b[38;5;28;01mas\u001b[39;00m \u001b[38;5;21;01msp\u001b[39;00m\n\u001b[1;32m    547\u001b[0m     \u001b[38;5;28;01mimport\u001b[39;00m \u001b[38;5;21;01mscipy\u001b[39;00m\u001b[38;5;21;01m.\u001b[39;00m\u001b[38;5;21;01msparse\u001b[39;00m  \u001b[38;5;66;03m# call as sp.sparse\u001b[39;00m\n\u001b[1;32m    549\u001b[0m     \u001b[38;5;28;01mif\u001b[39;00m \u001b[38;5;28mlen\u001b[39m(G) \u001b[38;5;241m==\u001b[39m \u001b[38;5;241m0\u001b[39m:\n",
      "\u001b[0;31mModuleNotFoundError\u001b[0m: No module named 'scipy'"
     ]
    },
    {
     "data": {
      "image/png": "[encoded data removed]",
      "text/plain": [
       "<Figure size 640x480 with 1 Axes>"
      ]
     },
     "metadata": {},
     "output_type": "display_data"
    }
   ],
   "source": [
    "nx.draw(G, with_labels=True)\n"
   ]
  },
  {
   "cell_type": "code",
   "execution_count": null,
   "id": "4ffe5187-9fae-42f8-98d2-3fad6aa03e0d",
   "metadata": {
    "tags": []
   },
   "outputs": [],
   "source": [
    "nx.write_gpickle(G, 'seu_grafo.gpickle')"
   ]
  }
 ],
 "metadata": {
  "kernelspec": {
   "display_name": "tcc",
   "language": "python",
   "name": "tcc"
  },
  "language_info": {
   "codemirror_mode": {
    "name": "ipython",
    "version": 3
   },
   "file_extension": ".py",
   "mimetype": "text/x-python",
   "name": "python",
   "nbconvert_exporter": "python",
   "pygments_lexer": "ipython3",
   "version": "3.8.10"
  }
 },
 "nbformat": 4,
 "nbformat_minor": 5
}

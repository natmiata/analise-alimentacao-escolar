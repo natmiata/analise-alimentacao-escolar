{
 "cells": [
  {
   "cell_type": "markdown",
   "id": "5abb1092-cbb1-4400-9d20-18219af8eb79",
   "metadata": {},
   "source": [
    "<h2> Tratamento dos Dados </h2>\n",
    "<b> Objetivo: </b> Realizar o tratamento dos dados que serão utilizados no estudo de gastos municipais com alimentação. <br><br>\n",
    "<b> Munícipios os quais Campinas é região imediata: </b> <br>\n",
    "- americana <br>\n",
    "- artur-nogueira<br>\n",
    "- campinas<br>\n",
    "- cosmopolis<br>\n",
    "- elias-fausto<br>\n",
    "- holambra<br>\n",
    "- hortolandia<br>\n",
    "- indaiatuba<br>\n",
    "- jaguariuna<br>\n",
    "- monte-mor<br>\n",
    "- nova-odessa<br>\n",
    "- paulinia<br>\n",
    "- pedreira<br>\n",
    "- santa-barbara-d-oeste<br>\n",
    "- santo-antonio-de-posse<br>\n",
    "- sumare<br>\n",
    "- valinhos<br>\n",
    "- vinhedo<br>"
   ]
  },
  {
   "cell_type": "code",
   "execution_count": 1,
   "id": "93590bd2-fbc6-4b63-a95d-bb90444e3814",
   "metadata": {
    "tags": []
   },
   "outputs": [],
   "source": [
    "import pandas as pd\n",
    "import os\n",
    "\n",
    "pd.set_option('display.max_columns', 500)"
   ]
  },
  {
   "cell_type": "markdown",
   "id": "5863b1db-2731-409a-a801-f783b9787f08",
   "metadata": {},
   "source": [
    "<h3> Unificação das bases de dados por ano </h3>"
   ]
  },
  {
   "cell_type": "markdown",
   "id": "e03fdfd6-3822-4fdd-91a7-26d7fb42bfbc",
   "metadata": {
    "tags": []
   },
   "source": [
    "<h3> 2019 </h3>"
   ]
  },
  {
   "cell_type": "code",
   "execution_count": 2,
   "id": "767280a7-ddad-4b5f-83e3-8ec92951f37b",
   "metadata": {
    "tags": []
   },
   "outputs": [],
   "source": [
    "df_2019 = pd.DataFrame()"
   ]
  },
  {
   "cell_type": "code",
   "execution_count": 3,
   "id": "21ac91f6-459a-4c56-86dc-b524357cda49",
   "metadata": {
    "tags": []
   },
   "outputs": [],
   "source": [
    "arquivos_2019 = ['despesas-americana-2019.csv', 'despesas-artur-nogueira-2019.csv', 'despesas-campinas-2019.csv', 'despesas-cosmopolis-2019.csv',\n",
    "'despesas-elias-fausto-2019.csv', 'despesas-holambra-2019.csv','despesas-hortolandia-2019.csv', 'despesas-indaiatuba-2019.csv',\n",
    "'despesas-jaguariuna-2019.csv', 'despesas-monte-mor-2019.csv', 'despesas-nova-odessa-2019.csv', 'despesas-paulinia-2019.csv',\n",
    "'despesas-pedreira-2019.csv', 'despesas-santa-barbara-d-oeste-2019.csv', 'despesas-santo-antonio-de-posse-2019.csv', 'despesas-sumare-2019.csv',\n",
    "'despesas-valinhos-2019.csv', 'despesas-vinhedo-2019.csv']"
   ]
  },
  {
   "cell_type": "code",
   "execution_count": 4,
   "id": "85aa107d-a7ca-4a4d-960d-808063099db9",
   "metadata": {
    "tags": []
   },
   "outputs": [
    {
     "name": "stdout",
     "output_type": "stream",
     "text": [
      "CPU times: user 4.59 s, sys: 604 ms, total: 5.2 s\n",
      "Wall time: 5.2 s\n"
     ]
    }
   ],
   "source": [
    "%%time\n",
    "for file in os.listdir(\"/home/natasha/csv.files2019\"):\n",
    "    if file in arquivos_2019:\n",
    "            df_2019 = pd.concat([df_2019 , pd.read_csv(os.path.join(\"/home/natasha/csv.files2019\", file), sep=';', encoding='latin-1')], axis=0 )"
   ]
  },
  {
   "cell_type": "code",
   "execution_count": 5,
   "id": "e6a520ef-734b-40ec-a1a7-13d0ec50c63e",
   "metadata": {
    "tags": []
   },
   "outputs": [
    {
     "data": {
      "text/plain": [
       "(1065316, 23)"
      ]
     },
     "execution_count": 5,
     "metadata": {},
     "output_type": "execute_result"
    }
   ],
   "source": [
    "df_2019.shape"
   ]
  },
  {
   "cell_type": "code",
   "execution_count": 6,
   "id": "18b5f9ae-ae6f-470e-8070-3b00e1d194ac",
   "metadata": {
    "tags": []
   },
   "outputs": [
    {
     "data": {
      "text/plain": [
       "18"
      ]
     },
     "execution_count": 6,
     "metadata": {},
     "output_type": "execute_result"
    }
   ],
   "source": [
    "len(df_2019['ds_municipio'].value_counts())"
   ]
  },
  {
   "cell_type": "code",
   "execution_count": 7,
   "id": "e21ef13b-31ce-4ae6-87e0-d1ec59878c7a",
   "metadata": {
    "tags": []
   },
   "outputs": [
    {
     "data": {
      "text/plain": [
       "Campinas                  121757\n",
       "Indaiatuba                106129\n",
       "Americana                  91698\n",
       "Jaguariúna                 87710\n",
       "Valinhos                   71569\n",
       "Pedreira                   70177\n",
       "Santa Bárbara d Oeste      60438\n",
       "Vinhedo                    53284\n",
       "Artur Nogueira             49218\n",
       "Paulínia                   47590\n",
       "Monte Mor                  47482\n",
       "Hortolândia                46745\n",
       "Santo Antônio de Posse     40629\n",
       "Nova Odessa                39930\n",
       "Sumaré                     38145\n",
       "Holambra                   31947\n",
       "Elias Fausto               31687\n",
       "Cosmópolis                 29181\n",
       "Name: ds_municipio, dtype: int64"
      ]
     },
     "execution_count": 7,
     "metadata": {},
     "output_type": "execute_result"
    }
   ],
   "source": [
    "df_2019['ds_municipio'].value_counts()"
   ]
  },
  {
   "cell_type": "code",
   "execution_count": 8,
   "id": "e3fb1033-e7f4-45d4-94d9-c3e17bb1a11d",
   "metadata": {
    "tags": []
   },
   "outputs": [],
   "source": [
    "df_2019 = df_2019[(df_2019['ds_subfuncao_governo'] == \"ALIMENTAÇÃO E NUTRIÇÃO\") & (df_2019['ds_despesa'] != \"FOLHA DE PAGAMENTO\")]"
   ]
  },
  {
   "cell_type": "code",
   "execution_count": 9,
   "id": "8bb6318d-e824-4ce5-a8a7-ab15f13459b4",
   "metadata": {
    "tags": []
   },
   "outputs": [
    {
     "data": {
      "text/plain": [
       "15"
      ]
     },
     "execution_count": 9,
     "metadata": {},
     "output_type": "execute_result"
    }
   ],
   "source": [
    "len(df_2019['ds_municipio'].value_counts())"
   ]
  },
  {
   "cell_type": "markdown",
   "id": "f3971bbf-2716-48a9-af98-eed15772baf6",
   "metadata": {},
   "source": [
    "Não foram selecionados nos filtros acima: \n",
    "- Indaiatuba <br>\n",
    "- Nova Odessa <br>\n",
    "- Elias Fausto <br>\n",
    "\n",
    "Todos eles foram baixados, por que não retornaram resultados com o filtro?"
   ]
  },
  {
   "cell_type": "code",
   "execution_count": 10,
   "id": "27780e9b-ff5f-4a69-b3f3-0409f3d6bd55",
   "metadata": {
    "tags": []
   },
   "outputs": [
    {
     "data": {
      "text/plain": [
       "Artur Nogueira            3680\n",
       "Campinas                  2756\n",
       "Vinhedo                   1883\n",
       "Santo Antônio de Posse    1428\n",
       "Americana                 1385\n",
       "Santa Bárbara d Oeste     1262\n",
       "Pedreira                  1165\n",
       "Jaguariúna                 712\n",
       "Valinhos                   689\n",
       "Cosmópolis                 629\n",
       "Monte Mor                  621\n",
       "Paulínia                   377\n",
       "Hortolândia                297\n",
       "Sumaré                     227\n",
       "Holambra                    57\n",
       "Name: ds_municipio, dtype: int64"
      ]
     },
     "execution_count": 10,
     "metadata": {},
     "output_type": "execute_result"
    }
   ],
   "source": [
    "df_2019['ds_municipio'].value_counts()"
   ]
  },
  {
   "cell_type": "markdown",
   "id": "12b00ca9-be13-4c44-819b-9e25d41ea79a",
   "metadata": {},
   "source": [
    "Abaixo podemos verificar que não há casos que sigam as duas condições mesmo para o Indaiatuba, por exemplo."
   ]
  },
  {
   "cell_type": "code",
   "execution_count": 11,
   "id": "1c5ce97c-9bfc-4aa9-a8f2-cea699fd138a",
   "metadata": {
    "tags": []
   },
   "outputs": [
    {
     "data": {
      "text/html": [
       "<div>\n",
       "<style scoped>\n",
       "    .dataframe tbody tr th:only-of-type {\n",
       "        vertical-align: middle;\n",
       "    }\n",
       "\n",
       "    .dataframe tbody tr th {\n",
       "        vertical-align: top;\n",
       "    }\n",
       "\n",
       "    .dataframe thead th {\n",
       "        text-align: right;\n",
       "    }\n",
       "</style>\n",
       "<table border=\"1\" class=\"dataframe\">\n",
       "  <thead>\n",
       "    <tr style=\"text-align: right;\">\n",
       "      <th></th>\n",
       "      <th>id_despesa_detalhe</th>\n",
       "      <th>ano_exercicio</th>\n",
       "      <th>ds_municipio</th>\n",
       "      <th>ds_orgao</th>\n",
       "      <th>mes_referencia</th>\n",
       "      <th>mes_ref_extenso</th>\n",
       "      <th>tp_despesa</th>\n",
       "      <th>nr_empenho</th>\n",
       "      <th>identificador_despesa</th>\n",
       "      <th>ds_despesa</th>\n",
       "      <th>dt_emissao_despesa</th>\n",
       "      <th>vl_despesa</th>\n",
       "      <th>ds_funcao_governo</th>\n",
       "      <th>ds_subfuncao_governo</th>\n",
       "      <th>cd_programa</th>\n",
       "      <th>ds_programa</th>\n",
       "      <th>cd_acao</th>\n",
       "      <th>ds_acao</th>\n",
       "      <th>ds_fonte_recurso</th>\n",
       "      <th>ds_cd_aplicacao_fixo</th>\n",
       "      <th>ds_modalidade_lic</th>\n",
       "      <th>ds_elemento</th>\n",
       "      <th>historico_despesa</th>\n",
       "    </tr>\n",
       "  </thead>\n",
       "  <tbody>\n",
       "  </tbody>\n",
       "</table>\n",
       "</div>"
      ],
      "text/plain": [
       "Empty DataFrame\n",
       "Columns: [id_despesa_detalhe, ano_exercicio, ds_municipio, ds_orgao, mes_referencia, mes_ref_extenso, tp_despesa, nr_empenho, identificador_despesa, ds_despesa, dt_emissao_despesa, vl_despesa, ds_funcao_governo, ds_subfuncao_governo, cd_programa, ds_programa, cd_acao, ds_acao, ds_fonte_recurso, ds_cd_aplicacao_fixo, ds_modalidade_lic, ds_elemento, historico_despesa]\n",
       "Index: []"
      ]
     },
     "execution_count": 11,
     "metadata": {},
     "output_type": "execute_result"
    }
   ],
   "source": [
    "df_indaiatuba_2019 = pd.read_csv('/home/natasha/csv.files2019/despesas-indaiatuba-2019.csv', sep=';', encoding='latin-1')\n",
    "df_indaiatuba_2019[(df_indaiatuba_2019['ds_subfuncao_governo'] == \"ALIMENTAÇÃO E NUTRIÇÃO\") & (df_indaiatuba_2019['ds_despesa'] != \"FOLHA DE PAGAMENTO\")]"
   ]
  },
  {
   "cell_type": "markdown",
   "id": "339c328d-9857-410a-89eb-cc4dddb85800",
   "metadata": {
    "tags": []
   },
   "source": [
    "<h3> 2020 </h3>"
   ]
  },
  {
   "cell_type": "code",
   "execution_count": 12,
   "id": "db0aa3ed-ecef-4732-a636-bee02b4dc55b",
   "metadata": {
    "tags": []
   },
   "outputs": [],
   "source": [
    "df_2020 = pd.DataFrame()"
   ]
  },
  {
   "cell_type": "code",
   "execution_count": 13,
   "id": "2a4909a7-1cfe-4593-aa83-5df8afde3907",
   "metadata": {
    "tags": []
   },
   "outputs": [],
   "source": [
    "arquivos_2020 = ['despesas-americana-2020.csv', 'despesas-artur-nogueira-2020.csv', 'despesas-campinas-2020.csv', 'despesas-cosmopolis-2020.csv',\n",
    "'despesas-elias-fausto-2020.csv', 'despesas-holambra-2020.csv','despesas-hortolandia-2020.csv', 'despesas-indaiatuba-2020.csv',\n",
    "'despesas-jaguariuna-2020.csv', 'despesas-monte-mor-2020.csv', 'despesas-nova-odessa-2020.csv', 'despesas-paulinia-2020.csv',\n",
    "'despesas-pedreira-2020.csv', 'despesas-santa-barbara-d-oeste-2020.csv', 'despesas-santo-antonio-de-posse-2020.csv', 'despesas-sumare-2020.csv',\n",
    "'despesas-valinhos-2020.csv', 'despesas-vinhedo-2020.csv']"
   ]
  },
  {
   "cell_type": "code",
   "execution_count": 14,
   "id": "959f322b-604c-4761-9711-12e83cedbab5",
   "metadata": {
    "tags": []
   },
   "outputs": [
    {
     "data": {
      "text/plain": [
       "18"
      ]
     },
     "execution_count": 14,
     "metadata": {},
     "output_type": "execute_result"
    }
   ],
   "source": [
    "len(arquivos_2020)"
   ]
  },
  {
   "cell_type": "code",
   "execution_count": 15,
   "id": "05b08ef6-4bf0-4037-a845-26a27a1c2fde",
   "metadata": {
    "tags": []
   },
   "outputs": [
    {
     "name": "stdout",
     "output_type": "stream",
     "text": [
      "CPU times: user 4.25 s, sys: 349 ms, total: 4.6 s\n",
      "Wall time: 4.6 s\n"
     ]
    }
   ],
   "source": [
    "%%time\n",
    "for file in os.listdir(\"/home/natasha/csv.files2020\"):\n",
    "    if file in arquivos_2020:\n",
    "        df_2020 = pd.concat([df_2020 , pd.read_csv(os.path.join(\"/home/natasha/csv.files2020\", file), sep=';', encoding='latin-1')], axis=0 )"
   ]
  },
  {
   "cell_type": "code",
   "execution_count": 16,
   "id": "5593a008-f91b-47d3-b0c5-37c9451d8286",
   "metadata": {
    "tags": []
   },
   "outputs": [
    {
     "data": {
      "text/plain": [
       "(957610, 23)"
      ]
     },
     "execution_count": 16,
     "metadata": {},
     "output_type": "execute_result"
    }
   ],
   "source": [
    "df_2020.shape"
   ]
  },
  {
   "cell_type": "code",
   "execution_count": 17,
   "id": "36443640-c91c-4e18-b7da-91b4c8b5a02b",
   "metadata": {},
   "outputs": [
    {
     "data": {
      "text/plain": [
       "18"
      ]
     },
     "execution_count": 17,
     "metadata": {},
     "output_type": "execute_result"
    }
   ],
   "source": [
    "len(df_2020['ds_municipio'].value_counts())"
   ]
  },
  {
   "cell_type": "code",
   "execution_count": 18,
   "id": "7c412024-b904-4c9b-9b73-ee791be11cf6",
   "metadata": {},
   "outputs": [
    {
     "data": {
      "text/plain": [
       "Campinas                  113929\n",
       "Americana                  93480\n",
       "Indaiatuba                 93074\n",
       "Pedreira                   61414\n",
       "Jaguariúna                 61068\n",
       "Santa Bárbara d Oeste      57686\n",
       "Valinhos                   51277\n",
       "Vinhedo                    50513\n",
       "Paulínia                   49275\n",
       "Hortolândia                43141\n",
       "Artur Nogueira             43040\n",
       "Sumaré                     42367\n",
       "Monte Mor                  38721\n",
       "Nova Odessa                35410\n",
       "Holambra                   32558\n",
       "Santo Antônio de Posse     31171\n",
       "Elias Fausto               30458\n",
       "Cosmópolis                 29028\n",
       "Name: ds_municipio, dtype: int64"
      ]
     },
     "execution_count": 18,
     "metadata": {},
     "output_type": "execute_result"
    }
   ],
   "source": [
    "df_2020['ds_municipio'].value_counts()"
   ]
  },
  {
   "cell_type": "code",
   "execution_count": 19,
   "id": "fd2976b3-5954-4b6e-a0ca-8ee3861b7f0c",
   "metadata": {
    "tags": []
   },
   "outputs": [],
   "source": [
    "df_2020 = df_2020[(df_2020['ds_subfuncao_governo'] == \"ALIMENTAÇÃO E NUTRIÇÃO\") & (df_2020['ds_despesa'] != \"FOLHA DE PAGAMENTO\")]"
   ]
  },
  {
   "cell_type": "code",
   "execution_count": 20,
   "id": "a341985c-9536-44a1-aa5c-768271532ea1",
   "metadata": {
    "tags": []
   },
   "outputs": [
    {
     "data": {
      "text/plain": [
       "(7752, 23)"
      ]
     },
     "execution_count": 20,
     "metadata": {},
     "output_type": "execute_result"
    }
   ],
   "source": [
    "df_2020.shape"
   ]
  },
  {
   "cell_type": "code",
   "execution_count": 21,
   "id": "64aa8b2a-1593-4969-9476-8d68230c060b",
   "metadata": {},
   "outputs": [
    {
     "data": {
      "text/plain": [
       "16"
      ]
     },
     "execution_count": 21,
     "metadata": {},
     "output_type": "execute_result"
    }
   ],
   "source": [
    "len(df_2020['ds_municipio'].value_counts())"
   ]
  },
  {
   "cell_type": "markdown",
   "id": "d1656037-34e9-457c-89d3-49606da1a0a4",
   "metadata": {
    "tags": []
   },
   "source": [
    "Não foram selecionados nos filtros acima: \n",
    "- Indaiatuba\n",
    "- Nova Odessa"
   ]
  },
  {
   "cell_type": "code",
   "execution_count": 22,
   "id": "1b0f45c3-44de-4946-92ac-0616266bd8ce",
   "metadata": {
    "tags": []
   },
   "outputs": [
    {
     "data": {
      "text/plain": [
       "Artur Nogueira            1043\n",
       "Campinas                   848\n",
       "Vinhedo                    674\n",
       "Santa Bárbara d Oeste      608\n",
       "Santo Antônio de Posse     588\n",
       "Jaguariúna                 581\n",
       "Americana                  473\n",
       "Paulínia                   468\n",
       "Pedreira                   435\n",
       "Cosmópolis                 384\n",
       "Hortolândia                294\n",
       "Holambra                   288\n",
       "Elias Fausto               286\n",
       "Valinhos                   281\n",
       "Monte Mor                  272\n",
       "Sumaré                     229\n",
       "Name: ds_municipio, dtype: int64"
      ]
     },
     "execution_count": 22,
     "metadata": {},
     "output_type": "execute_result"
    }
   ],
   "source": [
    "df_2020['ds_municipio'].value_counts()"
   ]
  },
  {
   "cell_type": "markdown",
   "id": "8070420e-b1a7-4046-91b3-289e9907b503",
   "metadata": {
    "tags": []
   },
   "source": [
    "Abaixo eu importei o arquivo full que foi gerado para mais munícipios em SP, incluindo Indaiatuba, os quais foram gerados pelo R, e neste arquivo compilado também não houve ocorrência de Indaiatuba."
   ]
  },
  {
   "cell_type": "code",
   "execution_count": 23,
   "id": "7ae78c62-dd37-4812-a9de-6d97bef30f56",
   "metadata": {
    "tags": []
   },
   "outputs": [],
   "source": [
    "df_full_2020 = pd.read_csv('/home/natasha/gastos_merenda_sp_20.csv', sep=';', encoding='latin-1')\n"
   ]
  },
  {
   "cell_type": "code",
   "execution_count": 24,
   "id": "2c39c1b1-e67c-4b92-9ed7-73af181da6d7",
   "metadata": {
    "tags": []
   },
   "outputs": [
    {
     "data": {
      "text/html": [
       "<div>\n",
       "<style scoped>\n",
       "    .dataframe tbody tr th:only-of-type {\n",
       "        vertical-align: middle;\n",
       "    }\n",
       "\n",
       "    .dataframe tbody tr th {\n",
       "        vertical-align: top;\n",
       "    }\n",
       "\n",
       "    .dataframe thead th {\n",
       "        text-align: right;\n",
       "    }\n",
       "</style>\n",
       "<table border=\"1\" class=\"dataframe\">\n",
       "  <thead>\n",
       "    <tr style=\"text-align: right;\">\n",
       "      <th></th>\n",
       "      <th>id_despesa_detalhe</th>\n",
       "      <th>ano_exercicio</th>\n",
       "      <th>ds_municipio</th>\n",
       "      <th>ds_orgao</th>\n",
       "      <th>mes_referencia</th>\n",
       "      <th>mes_ref_extenso</th>\n",
       "      <th>tp_despesa</th>\n",
       "      <th>nr_empenho</th>\n",
       "      <th>identificador_despesa</th>\n",
       "      <th>ds_despesa</th>\n",
       "      <th>dt_emissao_despesa</th>\n",
       "      <th>vl_despesa</th>\n",
       "      <th>ds_funcao_governo</th>\n",
       "      <th>ds_subfuncao_governo</th>\n",
       "      <th>cd_programa</th>\n",
       "      <th>ds_programa</th>\n",
       "      <th>cd_acao</th>\n",
       "      <th>ds_acao</th>\n",
       "      <th>ds_fonte_recurso</th>\n",
       "      <th>ds_cd_aplicacao_fixo</th>\n",
       "      <th>ds_modalidade_lic</th>\n",
       "      <th>ds_elemento</th>\n",
       "      <th>historico_despesa</th>\n",
       "    </tr>\n",
       "  </thead>\n",
       "  <tbody>\n",
       "  </tbody>\n",
       "</table>\n",
       "</div>"
      ],
      "text/plain": [
       "Empty DataFrame\n",
       "Columns: [id_despesa_detalhe, ano_exercicio, ds_municipio, ds_orgao, mes_referencia, mes_ref_extenso, tp_despesa, nr_empenho, identificador_despesa, ds_despesa, dt_emissao_despesa, vl_despesa, ds_funcao_governo, ds_subfuncao_governo, cd_programa, ds_programa, cd_acao, ds_acao, ds_fonte_recurso, ds_cd_aplicacao_fixo, ds_modalidade_lic, ds_elemento, historico_despesa]\n",
       "Index: []"
      ]
     },
     "execution_count": 24,
     "metadata": {},
     "output_type": "execute_result"
    }
   ],
   "source": [
    "df_full_2020[(df_full_2020['ds_municipio'] == 'Indaiatuba') | (df_full_2020['ds_municipio'] == 'Nova Odessa')]"
   ]
  },
  {
   "cell_type": "markdown",
   "id": "f052ab5f-4ebf-4db4-9260-c79f5b700028",
   "metadata": {},
   "source": [
    "<h3> 2021 </h3>"
   ]
  },
  {
   "cell_type": "code",
   "execution_count": 25,
   "id": "eb8ffef7-245a-4015-a414-669f70021c14",
   "metadata": {},
   "outputs": [],
   "source": [
    "df_2021 = pd.DataFrame()"
   ]
  },
  {
   "cell_type": "code",
   "execution_count": 26,
   "id": "9907826a-c41a-471e-8fc9-e0411fa4aea4",
   "metadata": {
    "tags": []
   },
   "outputs": [],
   "source": [
    "arquivos_2021 = ['despesas-americana-2021.csv', 'despesas-artur-nogueira-2021.csv', 'despesas-campinas-2021.csv', 'despesas-cosmopolis-2021.csv',\n",
    "'despesas-elias-fausto-2021.csv', 'despesas-holambra-2021.csv','despesas-hortolandia-2021.csv', 'despesas-indaiatuba-2021.csv',\n",
    "'despesas-jaguariuna-2021.csv', 'despesas-monte-mor-2021.csv', 'despesas-nova-odessa-2021.csv', 'despesas-paulinia-2021.csv',\n",
    "'despesas-pedreira-2021.csv', 'despesas-santa-barbara-d-oeste-2021.csv', 'despesas-santo-antonio-de-posse-2021.csv', 'despesas-sumare-2021.csv',\n",
    "'despesas-valinhos-2021.csv', 'despesas-vinhedo-2021.csv']"
   ]
  },
  {
   "cell_type": "code",
   "execution_count": 27,
   "id": "7d0ec973-0e7e-4759-ae64-8cead3a8bcc6",
   "metadata": {
    "tags": []
   },
   "outputs": [
    {
     "name": "stdout",
     "output_type": "stream",
     "text": [
      "CPU times: user 4.77 s, sys: 440 ms, total: 5.21 s\n",
      "Wall time: 5.21 s\n"
     ]
    }
   ],
   "source": [
    "%%time\n",
    "for file in os.listdir(\"/home/natasha/csv.files2021\"):\n",
    "    if file in arquivos_2021:\n",
    "        df_2021 = pd.concat([df_2021 , pd.read_csv(os.path.join(\"/home/natasha/csv.files2021\", file), sep=';', encoding='latin-1')], axis=0 )"
   ]
  },
  {
   "cell_type": "code",
   "execution_count": 28,
   "id": "c4b6452f-b698-48fa-891b-840635a43b67",
   "metadata": {},
   "outputs": [
    {
     "data": {
      "text/plain": [
       "(1015752, 23)"
      ]
     },
     "execution_count": 28,
     "metadata": {},
     "output_type": "execute_result"
    }
   ],
   "source": [
    "df_2021.shape"
   ]
  },
  {
   "cell_type": "code",
   "execution_count": 29,
   "id": "a516c0c6-b587-477c-97b0-76f4b71f00b9",
   "metadata": {},
   "outputs": [
    {
     "data": {
      "text/plain": [
       "18"
      ]
     },
     "execution_count": 29,
     "metadata": {},
     "output_type": "execute_result"
    }
   ],
   "source": [
    "len(df_2021['ds_municipio'].value_counts())"
   ]
  },
  {
   "cell_type": "code",
   "execution_count": 30,
   "id": "d6284072-ecd3-4e74-b4d8-b9588ef10932",
   "metadata": {},
   "outputs": [
    {
     "data": {
      "text/plain": [
       "Campinas                  120954\n",
       "Americana                 101157\n",
       "Indaiatuba                 97117\n",
       "Jaguariúna                 68285\n",
       "Santa Bárbara d Oeste      66093\n",
       "Pedreira                   64746\n",
       "Paulínia                   54347\n",
       "Valinhos                   49698\n",
       "Vinhedo                    48873\n",
       "Artur Nogueira             47729\n",
       "Hortolândia                46425\n",
       "Sumaré                     44110\n",
       "Monte Mor                  40404\n",
       "Nova Odessa                36655\n",
       "Santo Antônio de Posse     34800\n",
       "Elias Fausto               33713\n",
       "Holambra                   33280\n",
       "Cosmópolis                 27366\n",
       "Name: ds_municipio, dtype: int64"
      ]
     },
     "execution_count": 30,
     "metadata": {},
     "output_type": "execute_result"
    }
   ],
   "source": [
    "df_2021['ds_municipio'].value_counts()"
   ]
  },
  {
   "cell_type": "code",
   "execution_count": 31,
   "id": "959f4bab-6bad-462e-8adb-cbb573a5b1ed",
   "metadata": {},
   "outputs": [],
   "source": [
    "df_2021 = df_2021[(df_2021['ds_subfuncao_governo'] == \"ALIMENTAÇÃO E NUTRIÇÃO\") & (df_2021['ds_despesa'] != \"FOLHA DE PAGAMENTO\")]"
   ]
  },
  {
   "cell_type": "markdown",
   "id": "7b5e6002-d085-4878-96d2-45ce0b66667d",
   "metadata": {},
   "source": [
    "Não foram selecionados nos filtros acima: \n",
    "- Indaiatuba <br>\n",
    "- Nova Odessa <br>"
   ]
  },
  {
   "cell_type": "code",
   "execution_count": 32,
   "id": "55597192-66de-4f6d-8e9f-742cd0b522fc",
   "metadata": {},
   "outputs": [
    {
     "data": {
      "text/plain": [
       "16"
      ]
     },
     "execution_count": 32,
     "metadata": {},
     "output_type": "execute_result"
    }
   ],
   "source": [
    "len(df_2021['ds_municipio'].value_counts())"
   ]
  },
  {
   "cell_type": "code",
   "execution_count": 33,
   "id": "b64f7ee8-4e6d-446d-bb51-7809baf14fe8",
   "metadata": {},
   "outputs": [
    {
     "data": {
      "text/plain": [
       "Artur Nogueira            2071\n",
       "Campinas                  1910\n",
       "Holambra                  1102\n",
       "Santo Antônio de Posse    1050\n",
       "Vinhedo                    980\n",
       "Pedreira                   908\n",
       "Santa Bárbara d Oeste      842\n",
       "Americana                  822\n",
       "Elias Fausto               749\n",
       "Jaguariúna                 591\n",
       "Paulínia                   438\n",
       "Monte Mor                  435\n",
       "Valinhos                   376\n",
       "Cosmópolis                 346\n",
       "Sumaré                     230\n",
       "Hortolândia                208\n",
       "Name: ds_municipio, dtype: int64"
      ]
     },
     "execution_count": 33,
     "metadata": {},
     "output_type": "execute_result"
    }
   ],
   "source": [
    "df_2021['ds_municipio'].value_counts()"
   ]
  },
  {
   "cell_type": "markdown",
   "id": "daaa2c62-4583-405e-bd39-e3f6491eb0aa",
   "metadata": {},
   "source": [
    "<h3> 2022 </h3>"
   ]
  },
  {
   "cell_type": "code",
   "execution_count": 34,
   "id": "0f7e79ee-46d8-4184-8e6a-63e3c8a7c2af",
   "metadata": {
    "tags": []
   },
   "outputs": [],
   "source": [
    "df_2022 = pd.DataFrame()"
   ]
  },
  {
   "cell_type": "code",
   "execution_count": 35,
   "id": "4b1e083e-c010-4693-8ec9-95df28b31c67",
   "metadata": {
    "tags": []
   },
   "outputs": [],
   "source": [
    "arquivos_2022 = ['despesas-americana-2022.csv', 'despesas-artur-nogueira-2022.csv', 'despesas-campinas-2022.csv', 'despesas-cosmopolis-2022.csv',\n",
    "'despesas-elias-fausto-2022.csv', 'despesas-holambra-2022.csv','despesas-hortolandia-2022.csv', 'despesas-indaiatuba-2022.csv',\n",
    "'despesas-jaguariuna-2022.csv', 'despesas-monte-mor-2022.csv', 'despesas-nova-odessa-2022.csv', 'despesas-paulinia-2022.csv',\n",
    "'despesas-pedreira-2022.csv', 'despesas-santa-barbara-d-oeste-2022.csv', 'despesas-santo-antonio-de-posse-2022.csv', 'despesas-sumare-2022.csv',\n",
    "'despesas-valinhos-2022.csv', 'despesas-vinhedo-2022.csv']\n"
   ]
  },
  {
   "cell_type": "code",
   "execution_count": 36,
   "id": "6034335b-0515-4118-a522-2cb14194493d",
   "metadata": {
    "tags": []
   },
   "outputs": [
    {
     "name": "stdout",
     "output_type": "stream",
     "text": [
      "CPU times: user 5.38 s, sys: 425 ms, total: 5.81 s\n",
      "Wall time: 5.81 s\n"
     ]
    }
   ],
   "source": [
    "%%time\n",
    "for file in os.listdir(\"/home/natasha/csv.files2022\"):\n",
    "    if file in arquivos_2022:\n",
    "        df_2022 = pd.concat([df_2022 , pd.read_csv(os.path.join(\"/home/natasha/csv.files2022\", file), sep=';', encoding='latin-1')], axis=0 )"
   ]
  },
  {
   "cell_type": "code",
   "execution_count": 37,
   "id": "ada37a56-7c48-4dbb-ae1f-46fea8f2db11",
   "metadata": {},
   "outputs": [
    {
     "data": {
      "text/plain": [
       "(1176760, 23)"
      ]
     },
     "execution_count": 37,
     "metadata": {},
     "output_type": "execute_result"
    }
   ],
   "source": [
    "df_2022.shape"
   ]
  },
  {
   "cell_type": "code",
   "execution_count": 38,
   "id": "f6857a94-5dd0-4809-a77d-e22c404f90eb",
   "metadata": {},
   "outputs": [
    {
     "data": {
      "text/plain": [
       "18"
      ]
     },
     "execution_count": 38,
     "metadata": {},
     "output_type": "execute_result"
    }
   ],
   "source": [
    "len(df_2022['ds_municipio'].value_counts())"
   ]
  },
  {
   "cell_type": "code",
   "execution_count": 39,
   "id": "cca0e397-9bc5-4865-bac9-2f1347c54030",
   "metadata": {},
   "outputs": [
    {
     "data": {
      "text/plain": [
       "Campinas                  151545\n",
       "Indaiatuba                117508\n",
       "Americana                 113397\n",
       "Jaguariúna                 77446\n",
       "Santa Bárbara d Oeste      73404\n",
       "Pedreira                   69248\n",
       "Valinhos                   64910\n",
       "Paulínia                   59778\n",
       "Vinhedo                    58990\n",
       "Hortolândia                54386\n",
       "Sumaré                     54300\n",
       "Artur Nogueira             52346\n",
       "Nova Odessa                45259\n",
       "Monte Mor                  43286\n",
       "Holambra                   38179\n",
       "Santo Antônio de Posse     38066\n",
       "Cosmópolis                 33283\n",
       "Elias Fausto               31429\n",
       "Name: ds_municipio, dtype: int64"
      ]
     },
     "execution_count": 39,
     "metadata": {},
     "output_type": "execute_result"
    }
   ],
   "source": [
    "df_2022['ds_municipio'].value_counts()"
   ]
  },
  {
   "cell_type": "code",
   "execution_count": 40,
   "id": "6c1fd69f-965a-4809-9595-77d564f12387",
   "metadata": {
    "tags": []
   },
   "outputs": [],
   "source": [
    "df_2022 = df_2022[(df_2022['ds_subfuncao_governo'] == \"ALIMENTAÇÃO E NUTRIÇÃO\") & (df_2022['ds_despesa'] != \"FOLHA DE PAGAMENTO\")]"
   ]
  },
  {
   "cell_type": "code",
   "execution_count": 41,
   "id": "7e56b369-1b5b-44f7-a6c4-2812b64d65a3",
   "metadata": {},
   "outputs": [
    {
     "data": {
      "text/plain": [
       "17"
      ]
     },
     "execution_count": 41,
     "metadata": {},
     "output_type": "execute_result"
    }
   ],
   "source": [
    "len(df_2022['ds_municipio'].value_counts())"
   ]
  },
  {
   "cell_type": "markdown",
   "id": "c00fe71b-71f6-4f5d-a543-32a48d33595f",
   "metadata": {},
   "source": [
    "Não foram selecionados nos filtros acima: \n",
    "- Nova Odessa <br>"
   ]
  },
  {
   "cell_type": "code",
   "execution_count": 42,
   "id": "4c6bdd92-693c-475e-be1c-52610dda3c6d",
   "metadata": {
    "tags": []
   },
   "outputs": [
    {
     "data": {
      "text/plain": [
       "Artur Nogueira            3451\n",
       "Campinas                  2611\n",
       "Vinhedo                   2248\n",
       "Americana                 1992\n",
       "Pedreira                  1774\n",
       "Santa Bárbara d Oeste     1681\n",
       "Holambra                  1586\n",
       "Santo Antônio de Posse    1249\n",
       "Jaguariúna                1182\n",
       "Cosmópolis                1075\n",
       "Indaiatuba                 795\n",
       "Elias Fausto               771\n",
       "Sumaré                     647\n",
       "Monte Mor                  515\n",
       "Valinhos                   483\n",
       "Paulínia                   437\n",
       "Hortolândia                161\n",
       "Name: ds_municipio, dtype: int64"
      ]
     },
     "execution_count": 42,
     "metadata": {},
     "output_type": "execute_result"
    }
   ],
   "source": [
    "df_2022['ds_municipio'].value_counts()"
   ]
  },
  {
   "cell_type": "markdown",
   "id": "56f7e1d3-a3d1-42f3-b066-52d5216d1a66",
   "metadata": {},
   "source": [
    "<h3> Concatenando os Dataframes </h3>"
   ]
  },
  {
   "cell_type": "code",
   "execution_count": 43,
   "id": "d5e038e5-2a66-4929-ba2d-2dcb4af42e9d",
   "metadata": {
    "tags": []
   },
   "outputs": [],
   "source": [
    "df_campinas = pd.concat([df_2019, df_2020, df_2021, df_2022], axis=0).reset_index()\n"
   ]
  },
  {
   "cell_type": "code",
   "execution_count": 44,
   "id": "60258e36-1af6-4a64-b23e-a895b2fcc2f7",
   "metadata": {
    "tags": []
   },
   "outputs": [
    {
     "data": {
      "text/html": [
       "<div>\n",
       "<style scoped>\n",
       "    .dataframe tbody tr th:only-of-type {\n",
       "        vertical-align: middle;\n",
       "    }\n",
       "\n",
       "    .dataframe tbody tr th {\n",
       "        vertical-align: top;\n",
       "    }\n",
       "\n",
       "    .dataframe thead th {\n",
       "        text-align: right;\n",
       "    }\n",
       "</style>\n",
       "<table border=\"1\" class=\"dataframe\">\n",
       "  <thead>\n",
       "    <tr style=\"text-align: right;\">\n",
       "      <th></th>\n",
       "      <th>index</th>\n",
       "      <th>id_despesa_detalhe</th>\n",
       "      <th>ano_exercicio</th>\n",
       "      <th>ds_municipio</th>\n",
       "      <th>ds_orgao</th>\n",
       "      <th>mes_referencia</th>\n",
       "      <th>mes_ref_extenso</th>\n",
       "      <th>tp_despesa</th>\n",
       "      <th>nr_empenho</th>\n",
       "      <th>identificador_despesa</th>\n",
       "      <th>ds_despesa</th>\n",
       "      <th>dt_emissao_despesa</th>\n",
       "      <th>vl_despesa</th>\n",
       "      <th>ds_funcao_governo</th>\n",
       "      <th>ds_subfuncao_governo</th>\n",
       "      <th>cd_programa</th>\n",
       "      <th>ds_programa</th>\n",
       "      <th>cd_acao</th>\n",
       "      <th>ds_acao</th>\n",
       "      <th>ds_fonte_recurso</th>\n",
       "      <th>ds_cd_aplicacao_fixo</th>\n",
       "      <th>ds_modalidade_lic</th>\n",
       "      <th>ds_elemento</th>\n",
       "      <th>historico_despesa</th>\n",
       "    </tr>\n",
       "  </thead>\n",
       "  <tbody>\n",
       "    <tr>\n",
       "      <th>0</th>\n",
       "      <td>526</td>\n",
       "      <td>424887932</td>\n",
       "      <td>2019</td>\n",
       "      <td>Paulínia</td>\n",
       "      <td>PREFEITURA MUNICIPAL DE PAULINIA</td>\n",
       "      <td>1</td>\n",
       "      <td>Janeiro</td>\n",
       "      <td>Empenhado</td>\n",
       "      <td>000900-2019</td>\n",
       "      <td>IDENTIFICAÇÃO ESPECIAL - SEM CPF/CNPJ - 000000...</td>\n",
       "      <td>SERVIDORES MUNICIPAIS DE PAULÍNIA</td>\n",
       "      <td>31/01/2019</td>\n",
       "      <td>6473,79</td>\n",
       "      <td>EDUCAÇÃO</td>\n",
       "      <td>ALIMENTAÇÃO E NUTRIÇÃO</td>\n",
       "      <td>9</td>\n",
       "      <td>EDUCAÇÃO TOTAL</td>\n",
       "      <td>2015</td>\n",
       "      <td>MANUTENÇÃO DA MERENDA ESCOLAR</td>\n",
       "      <td>TESOURO</td>\n",
       "      <td>0110 - GERAL</td>\n",
       "      <td>OUTROS/NÃO APLICÁVEL</td>\n",
       "      <td>31901145 - FÉRIAS - ABONO CONSTITUCIONAL</td>\n",
       "      <td>Folha de Pagamento, referente a Janeiro/2019. ...</td>\n",
       "    </tr>\n",
       "    <tr>\n",
       "      <th>1</th>\n",
       "      <td>632</td>\n",
       "      <td>424888445</td>\n",
       "      <td>2019</td>\n",
       "      <td>Paulínia</td>\n",
       "      <td>PREFEITURA MUNICIPAL DE PAULINIA</td>\n",
       "      <td>1</td>\n",
       "      <td>Janeiro</td>\n",
       "      <td>Empenhado</td>\n",
       "      <td>001095-2019</td>\n",
       "      <td>CNPJ - PESSOA JURÍDICA - 29979036000140</td>\n",
       "      <td>INSTITUTO NACIONAL DO SEGURO SOCIAL.</td>\n",
       "      <td>31/01/2019</td>\n",
       "      <td>1625,53</td>\n",
       "      <td>EDUCAÇÃO</td>\n",
       "      <td>ALIMENTAÇÃO E NUTRIÇÃO</td>\n",
       "      <td>9</td>\n",
       "      <td>EDUCAÇÃO TOTAL</td>\n",
       "      <td>2015</td>\n",
       "      <td>MANUTENÇÃO DA MERENDA ESCOLAR</td>\n",
       "      <td>TESOURO</td>\n",
       "      <td>0110 - GERAL</td>\n",
       "      <td>OUTROS/NÃO APLICÁVEL</td>\n",
       "      <td>31901302 - CONTRIBUIÇÕES PREVIDENCIÁRIAS - INSS</td>\n",
       "      <td>Folha de Pagamento, referente a Janeiro/2019. ...</td>\n",
       "    </tr>\n",
       "  </tbody>\n",
       "</table>\n",
       "</div>"
      ],
      "text/plain": [
       "   index  id_despesa_detalhe  ano_exercicio ds_municipio  \\\n",
       "0    526           424887932           2019     Paulínia   \n",
       "1    632           424888445           2019     Paulínia   \n",
       "\n",
       "                           ds_orgao  mes_referencia mes_ref_extenso  \\\n",
       "0  PREFEITURA MUNICIPAL DE PAULINIA               1         Janeiro   \n",
       "1  PREFEITURA MUNICIPAL DE PAULINIA               1         Janeiro   \n",
       "\n",
       "  tp_despesa    nr_empenho                              identificador_despesa  \\\n",
       "0  Empenhado   000900-2019  IDENTIFICAÇÃO ESPECIAL - SEM CPF/CNPJ - 000000...   \n",
       "1  Empenhado   001095-2019            CNPJ - PESSOA JURÍDICA - 29979036000140   \n",
       "\n",
       "                             ds_despesa dt_emissao_despesa vl_despesa  \\\n",
       "0     SERVIDORES MUNICIPAIS DE PAULÍNIA         31/01/2019    6473,79   \n",
       "1  INSTITUTO NACIONAL DO SEGURO SOCIAL.         31/01/2019    1625,53   \n",
       "\n",
       "  ds_funcao_governo    ds_subfuncao_governo  cd_programa     ds_programa  \\\n",
       "0          EDUCAÇÃO  ALIMENTAÇÃO E NUTRIÇÃO            9  EDUCAÇÃO TOTAL   \n",
       "1          EDUCAÇÃO  ALIMENTAÇÃO E NUTRIÇÃO            9  EDUCAÇÃO TOTAL   \n",
       "\n",
       "   cd_acao                        ds_acao ds_fonte_recurso  \\\n",
       "0     2015  MANUTENÇÃO DA MERENDA ESCOLAR          TESOURO   \n",
       "1     2015  MANUTENÇÃO DA MERENDA ESCOLAR          TESOURO   \n",
       "\n",
       "  ds_cd_aplicacao_fixo     ds_modalidade_lic  \\\n",
       "0         0110 - GERAL  OUTROS/NÃO APLICÁVEL   \n",
       "1         0110 - GERAL  OUTROS/NÃO APLICÁVEL   \n",
       "\n",
       "                                       ds_elemento  \\\n",
       "0         31901145 - FÉRIAS - ABONO CONSTITUCIONAL   \n",
       "1  31901302 - CONTRIBUIÇÕES PREVIDENCIÁRIAS - INSS   \n",
       "\n",
       "                                   historico_despesa  \n",
       "0  Folha de Pagamento, referente a Janeiro/2019. ...  \n",
       "1  Folha de Pagamento, referente a Janeiro/2019. ...  "
      ]
     },
     "execution_count": 44,
     "metadata": {},
     "output_type": "execute_result"
    }
   ],
   "source": [
    "df_campinas.head(2)"
   ]
  },
  {
   "cell_type": "markdown",
   "id": "2fede5fb-7607-46af-89ca-53dc2a42cb90",
   "metadata": {},
   "source": [
    "<h3> Tratamento de Dados Inicial </h3>"
   ]
  },
  {
   "cell_type": "markdown",
   "id": "987fed67-c13c-44cb-8614-e5b199f3b0b9",
   "metadata": {},
   "source": [
    "Transformando os textos de todas as colunas para maiusculo. "
   ]
  },
  {
   "cell_type": "code",
   "execution_count": 45,
   "id": "0cc39a95-22f1-4c82-b2e5-a9d937f7c481",
   "metadata": {
    "tags": []
   },
   "outputs": [],
   "source": [
    "df_campinas = df_campinas.apply(lambda x: x.astype(str).str.upper())"
   ]
  },
  {
   "cell_type": "markdown",
   "id": "71ec8006-f40d-432e-9bb0-47f456c255a6",
   "metadata": {},
   "source": [
    "Removendo acentuação e caracteres especiais dos textos"
   ]
  },
  {
   "cell_type": "code",
   "execution_count": 46,
   "id": "69c9d6c4-a596-404f-93a9-76012cff1cf7",
   "metadata": {
    "tags": []
   },
   "outputs": [],
   "source": [
    "cols = df_campinas.select_dtypes(include=[object]).columns\n",
    "df_campinas[cols] = df_campinas[cols].apply(lambda x: x.str.normalize('NFKD').str.encode('ascii', errors='ignore').str.decode('utf-8'))"
   ]
  },
  {
   "cell_type": "markdown",
   "id": "ab967c7e-6146-467e-82dd-09872f8ad39a",
   "metadata": {},
   "source": [
    "Transformando algumas colunas no tipo numérico.\n"
   ]
  },
  {
   "cell_type": "code",
   "execution_count": 47,
   "id": "c3af7ac1-3355-41fe-9359-8d9ea1914d9f",
   "metadata": {
    "tags": []
   },
   "outputs": [],
   "source": [
    "df_campinas['vl_despesa'] = df_campinas['vl_despesa'].str.replace(',','.')\n",
    "df_campinas['vl_despesa'] = df_campinas['vl_despesa'].astype(float)\n",
    "df_campinas['vl_despesa'] = df_campinas['vl_despesa'].astype(int).round(0)\n",
    "df_campinas['mes_referencia'] = df_campinas['mes_referencia'].astype(int)\n",
    "df_campinas['ano_exercicio'] = df_campinas['ano_exercicio'].astype(int)\n",
    "df_campinas['cd_acao'] = df_campinas['cd_acao'].astype(int)"
   ]
  },
  {
   "cell_type": "code",
   "execution_count": 48,
   "id": "9ac3e95b-e3dc-4f5f-8fa2-6315a32874cc",
   "metadata": {
    "tags": []
   },
   "outputs": [
    {
     "data": {
      "text/html": [
       "<div>\n",
       "<style scoped>\n",
       "    .dataframe tbody tr th:only-of-type {\n",
       "        vertical-align: middle;\n",
       "    }\n",
       "\n",
       "    .dataframe tbody tr th {\n",
       "        vertical-align: top;\n",
       "    }\n",
       "\n",
       "    .dataframe thead th {\n",
       "        text-align: right;\n",
       "    }\n",
       "</style>\n",
       "<table border=\"1\" class=\"dataframe\">\n",
       "  <thead>\n",
       "    <tr style=\"text-align: right;\">\n",
       "      <th></th>\n",
       "      <th>index</th>\n",
       "      <th>id_despesa_detalhe</th>\n",
       "      <th>ano_exercicio</th>\n",
       "      <th>ds_municipio</th>\n",
       "      <th>ds_orgao</th>\n",
       "      <th>mes_referencia</th>\n",
       "      <th>mes_ref_extenso</th>\n",
       "      <th>tp_despesa</th>\n",
       "      <th>nr_empenho</th>\n",
       "      <th>identificador_despesa</th>\n",
       "      <th>ds_despesa</th>\n",
       "      <th>dt_emissao_despesa</th>\n",
       "      <th>vl_despesa</th>\n",
       "      <th>ds_funcao_governo</th>\n",
       "      <th>ds_subfuncao_governo</th>\n",
       "      <th>cd_programa</th>\n",
       "      <th>ds_programa</th>\n",
       "      <th>cd_acao</th>\n",
       "      <th>ds_acao</th>\n",
       "      <th>ds_fonte_recurso</th>\n",
       "      <th>ds_cd_aplicacao_fixo</th>\n",
       "      <th>ds_modalidade_lic</th>\n",
       "      <th>ds_elemento</th>\n",
       "      <th>historico_despesa</th>\n",
       "    </tr>\n",
       "  </thead>\n",
       "  <tbody>\n",
       "    <tr>\n",
       "      <th>0</th>\n",
       "      <td>526</td>\n",
       "      <td>424887932</td>\n",
       "      <td>2019</td>\n",
       "      <td>PAULINIA</td>\n",
       "      <td>PREFEITURA MUNICIPAL DE PAULINIA</td>\n",
       "      <td>1</td>\n",
       "      <td>JANEIRO</td>\n",
       "      <td>EMPENHADO</td>\n",
       "      <td>000900-2019</td>\n",
       "      <td>IDENTIFICACAO ESPECIAL - SEM CPF/CNPJ - 000000...</td>\n",
       "      <td>SERVIDORES MUNICIPAIS DE PAULINIA</td>\n",
       "      <td>31/01/2019</td>\n",
       "      <td>6473</td>\n",
       "      <td>EDUCACAO</td>\n",
       "      <td>ALIMENTACAO E NUTRICAO</td>\n",
       "      <td>9</td>\n",
       "      <td>EDUCACAO TOTAL</td>\n",
       "      <td>2015</td>\n",
       "      <td>MANUTENCAO DA MERENDA ESCOLAR</td>\n",
       "      <td>TESOURO</td>\n",
       "      <td>0110 - GERAL</td>\n",
       "      <td>OUTROS/NAO APLICAVEL</td>\n",
       "      <td>31901145 - FERIAS - ABONO CONSTITUCIONAL</td>\n",
       "      <td>FOLHA DE PAGAMENTO, REFERENTE A JANEIRO/2019. ...</td>\n",
       "    </tr>\n",
       "    <tr>\n",
       "      <th>1</th>\n",
       "      <td>632</td>\n",
       "      <td>424888445</td>\n",
       "      <td>2019</td>\n",
       "      <td>PAULINIA</td>\n",
       "      <td>PREFEITURA MUNICIPAL DE PAULINIA</td>\n",
       "      <td>1</td>\n",
       "      <td>JANEIRO</td>\n",
       "      <td>EMPENHADO</td>\n",
       "      <td>001095-2019</td>\n",
       "      <td>CNPJ - PESSOA JURIDICA - 29979036000140</td>\n",
       "      <td>INSTITUTO NACIONAL DO SEGURO SOCIAL.</td>\n",
       "      <td>31/01/2019</td>\n",
       "      <td>1625</td>\n",
       "      <td>EDUCACAO</td>\n",
       "      <td>ALIMENTACAO E NUTRICAO</td>\n",
       "      <td>9</td>\n",
       "      <td>EDUCACAO TOTAL</td>\n",
       "      <td>2015</td>\n",
       "      <td>MANUTENCAO DA MERENDA ESCOLAR</td>\n",
       "      <td>TESOURO</td>\n",
       "      <td>0110 - GERAL</td>\n",
       "      <td>OUTROS/NAO APLICAVEL</td>\n",
       "      <td>31901302 - CONTRIBUICOES PREVIDENCIARIAS - INSS</td>\n",
       "      <td>FOLHA DE PAGAMENTO, REFERENTE A JANEIRO/2019. ...</td>\n",
       "    </tr>\n",
       "    <tr>\n",
       "      <th>2</th>\n",
       "      <td>770</td>\n",
       "      <td>424888911</td>\n",
       "      <td>2019</td>\n",
       "      <td>PAULINIA</td>\n",
       "      <td>PREFEITURA MUNICIPAL DE PAULINIA</td>\n",
       "      <td>1</td>\n",
       "      <td>JANEIRO</td>\n",
       "      <td>EMPENHADO</td>\n",
       "      <td>000520-2019</td>\n",
       "      <td>CNPJ - PESSOA JURIDICA - 09445502000109</td>\n",
       "      <td>SOLUCOES SERVICOS TERCEIRIZADOS - EIRELI</td>\n",
       "      <td>17/01/2019</td>\n",
       "      <td>17540879</td>\n",
       "      <td>EDUCACAO</td>\n",
       "      <td>ALIMENTACAO E NUTRICAO</td>\n",
       "      <td>9</td>\n",
       "      <td>EDUCACAO TOTAL</td>\n",
       "      <td>2015</td>\n",
       "      <td>MANUTENCAO DA MERENDA ESCOLAR</td>\n",
       "      <td>TESOURO</td>\n",
       "      <td>0110 - GERAL</td>\n",
       "      <td>BEC-BOLSA ELETRONICA DE COMPRAS</td>\n",
       "      <td>33903941 - FORNECIMENTO DE ALIMENTACAO</td>\n",
       "      <td>CONTRATACAO DE EMPRESA ESPECIALIZADA NA PRESTA...</td>\n",
       "    </tr>\n",
       "    <tr>\n",
       "      <th>3</th>\n",
       "      <td>819</td>\n",
       "      <td>424889312</td>\n",
       "      <td>2019</td>\n",
       "      <td>PAULINIA</td>\n",
       "      <td>PREFEITURA MUNICIPAL DE PAULINIA</td>\n",
       "      <td>1</td>\n",
       "      <td>JANEIRO</td>\n",
       "      <td>EMPENHADO</td>\n",
       "      <td>001066-2019</td>\n",
       "      <td>CNPJ - PESSOA JURIDICA - 00360305000104</td>\n",
       "      <td>CAIXA ECONOMICA FEDERAL</td>\n",
       "      <td>31/01/2019</td>\n",
       "      <td>584</td>\n",
       "      <td>EDUCACAO</td>\n",
       "      <td>ALIMENTACAO E NUTRICAO</td>\n",
       "      <td>9</td>\n",
       "      <td>EDUCACAO TOTAL</td>\n",
       "      <td>2015</td>\n",
       "      <td>MANUTENCAO DA MERENDA ESCOLAR</td>\n",
       "      <td>TESOURO</td>\n",
       "      <td>0110 - GERAL</td>\n",
       "      <td>OUTROS/NAO APLICAVEL</td>\n",
       "      <td>31901301 - FGTS</td>\n",
       "      <td>FOLHA DE PAGAMENTO, REFERENTE A JANEIRO/2019. ...</td>\n",
       "    </tr>\n",
       "    <tr>\n",
       "      <th>4</th>\n",
       "      <td>874</td>\n",
       "      <td>424889781</td>\n",
       "      <td>2019</td>\n",
       "      <td>PAULINIA</td>\n",
       "      <td>PREFEITURA MUNICIPAL DE PAULINIA</td>\n",
       "      <td>1</td>\n",
       "      <td>JANEIRO</td>\n",
       "      <td>EMPENHADO</td>\n",
       "      <td>000331-2019</td>\n",
       "      <td>CNPJ - PESSOA JURIDICA - 12047604000172</td>\n",
       "      <td>RUANA COMERCIAL LTDA</td>\n",
       "      <td>10/01/2019</td>\n",
       "      <td>3558</td>\n",
       "      <td>EDUCACAO</td>\n",
       "      <td>ALIMENTACAO E NUTRICAO</td>\n",
       "      <td>9</td>\n",
       "      <td>EDUCACAO TOTAL</td>\n",
       "      <td>2015</td>\n",
       "      <td>MANUTENCAO DA MERENDA ESCOLAR</td>\n",
       "      <td>TESOURO</td>\n",
       "      <td>0110 - GERAL</td>\n",
       "      <td>BEC-BOLSA ELETRONICA DE COMPRAS</td>\n",
       "      <td>33903022 - MATERIAL DE LIMPEZA E PRODUTOS DE H...</td>\n",
       "      <td>ESPONJA DUPLA FACE MULTIUSO COMPOSTA DE ESPUMA...</td>\n",
       "    </tr>\n",
       "  </tbody>\n",
       "</table>\n",
       "</div>"
      ],
      "text/plain": [
       "  index id_despesa_detalhe  ano_exercicio ds_municipio  \\\n",
       "0   526          424887932           2019     PAULINIA   \n",
       "1   632          424888445           2019     PAULINIA   \n",
       "2   770          424888911           2019     PAULINIA   \n",
       "3   819          424889312           2019     PAULINIA   \n",
       "4   874          424889781           2019     PAULINIA   \n",
       "\n",
       "                           ds_orgao  mes_referencia mes_ref_extenso  \\\n",
       "0  PREFEITURA MUNICIPAL DE PAULINIA               1         JANEIRO   \n",
       "1  PREFEITURA MUNICIPAL DE PAULINIA               1         JANEIRO   \n",
       "2  PREFEITURA MUNICIPAL DE PAULINIA               1         JANEIRO   \n",
       "3  PREFEITURA MUNICIPAL DE PAULINIA               1         JANEIRO   \n",
       "4  PREFEITURA MUNICIPAL DE PAULINIA               1         JANEIRO   \n",
       "\n",
       "  tp_despesa    nr_empenho                              identificador_despesa  \\\n",
       "0  EMPENHADO   000900-2019  IDENTIFICACAO ESPECIAL - SEM CPF/CNPJ - 000000...   \n",
       "1  EMPENHADO   001095-2019            CNPJ - PESSOA JURIDICA - 29979036000140   \n",
       "2  EMPENHADO   000520-2019            CNPJ - PESSOA JURIDICA - 09445502000109   \n",
       "3  EMPENHADO   001066-2019            CNPJ - PESSOA JURIDICA - 00360305000104   \n",
       "4  EMPENHADO   000331-2019            CNPJ - PESSOA JURIDICA - 12047604000172   \n",
       "\n",
       "                                 ds_despesa dt_emissao_despesa  vl_despesa  \\\n",
       "0         SERVIDORES MUNICIPAIS DE PAULINIA         31/01/2019        6473   \n",
       "1      INSTITUTO NACIONAL DO SEGURO SOCIAL.         31/01/2019        1625   \n",
       "2  SOLUCOES SERVICOS TERCEIRIZADOS - EIRELI         17/01/2019    17540879   \n",
       "3                   CAIXA ECONOMICA FEDERAL         31/01/2019         584   \n",
       "4                      RUANA COMERCIAL LTDA         10/01/2019        3558   \n",
       "\n",
       "  ds_funcao_governo    ds_subfuncao_governo cd_programa     ds_programa  \\\n",
       "0          EDUCACAO  ALIMENTACAO E NUTRICAO           9  EDUCACAO TOTAL   \n",
       "1          EDUCACAO  ALIMENTACAO E NUTRICAO           9  EDUCACAO TOTAL   \n",
       "2          EDUCACAO  ALIMENTACAO E NUTRICAO           9  EDUCACAO TOTAL   \n",
       "3          EDUCACAO  ALIMENTACAO E NUTRICAO           9  EDUCACAO TOTAL   \n",
       "4          EDUCACAO  ALIMENTACAO E NUTRICAO           9  EDUCACAO TOTAL   \n",
       "\n",
       "   cd_acao                        ds_acao ds_fonte_recurso  \\\n",
       "0     2015  MANUTENCAO DA MERENDA ESCOLAR          TESOURO   \n",
       "1     2015  MANUTENCAO DA MERENDA ESCOLAR          TESOURO   \n",
       "2     2015  MANUTENCAO DA MERENDA ESCOLAR          TESOURO   \n",
       "3     2015  MANUTENCAO DA MERENDA ESCOLAR          TESOURO   \n",
       "4     2015  MANUTENCAO DA MERENDA ESCOLAR          TESOURO   \n",
       "\n",
       "  ds_cd_aplicacao_fixo                ds_modalidade_lic  \\\n",
       "0         0110 - GERAL             OUTROS/NAO APLICAVEL   \n",
       "1         0110 - GERAL             OUTROS/NAO APLICAVEL   \n",
       "2         0110 - GERAL  BEC-BOLSA ELETRONICA DE COMPRAS   \n",
       "3         0110 - GERAL             OUTROS/NAO APLICAVEL   \n",
       "4         0110 - GERAL  BEC-BOLSA ELETRONICA DE COMPRAS   \n",
       "\n",
       "                                         ds_elemento  \\\n",
       "0           31901145 - FERIAS - ABONO CONSTITUCIONAL   \n",
       "1    31901302 - CONTRIBUICOES PREVIDENCIARIAS - INSS   \n",
       "2             33903941 - FORNECIMENTO DE ALIMENTACAO   \n",
       "3                                    31901301 - FGTS   \n",
       "4  33903022 - MATERIAL DE LIMPEZA E PRODUTOS DE H...   \n",
       "\n",
       "                                   historico_despesa  \n",
       "0  FOLHA DE PAGAMENTO, REFERENTE A JANEIRO/2019. ...  \n",
       "1  FOLHA DE PAGAMENTO, REFERENTE A JANEIRO/2019. ...  \n",
       "2  CONTRATACAO DE EMPRESA ESPECIALIZADA NA PRESTA...  \n",
       "3  FOLHA DE PAGAMENTO, REFERENTE A JANEIRO/2019. ...  \n",
       "4  ESPONJA DUPLA FACE MULTIUSO COMPOSTA DE ESPUMA...  "
      ]
     },
     "execution_count": 48,
     "metadata": {},
     "output_type": "execute_result"
    }
   ],
   "source": [
    "df_campinas.head()"
   ]
  },
  {
   "cell_type": "code",
   "execution_count": 49,
   "id": "5b08ade5-4fb1-42e8-919a-f7969d285a9c",
   "metadata": {
    "tags": []
   },
   "outputs": [
    {
     "data": {
      "text/plain": [
       "index                    object\n",
       "id_despesa_detalhe       object\n",
       "ano_exercicio             int64\n",
       "ds_municipio             object\n",
       "ds_orgao                 object\n",
       "mes_referencia            int64\n",
       "mes_ref_extenso          object\n",
       "tp_despesa               object\n",
       "nr_empenho               object\n",
       "identificador_despesa    object\n",
       "ds_despesa               object\n",
       "dt_emissao_despesa       object\n",
       "vl_despesa                int64\n",
       "ds_funcao_governo        object\n",
       "ds_subfuncao_governo     object\n",
       "cd_programa              object\n",
       "ds_programa              object\n",
       "cd_acao                   int64\n",
       "ds_acao                  object\n",
       "ds_fonte_recurso         object\n",
       "ds_cd_aplicacao_fixo     object\n",
       "ds_modalidade_lic        object\n",
       "ds_elemento              object\n",
       "historico_despesa        object\n",
       "dtype: object"
      ]
     },
     "execution_count": 49,
     "metadata": {},
     "output_type": "execute_result"
    }
   ],
   "source": [
    "df_campinas.dtypes"
   ]
  },
  {
   "cell_type": "code",
   "execution_count": 50,
   "id": "aa099709-d9b6-4110-af30-0c711bf362b2",
   "metadata": {
    "tags": []
   },
   "outputs": [],
   "source": [
    "# df_campinas.to_csv('df_full_campinas.csv', index=False)"
   ]
  },
  {
   "cell_type": "markdown",
   "id": "d2cab536-2ffa-4a95-8ac5-e02e8dee3fc2",
   "metadata": {},
   "source": [
    "TO DO:\n",
    "- Confirmar filtros: \n",
    "    - São apenas <b> ds_subfuncao_governo == ALIMENTAÇÃO E NUTRIÇÃO & ds_despesa != de FOLHA DE PAGAMENTO? </b> Pois com esses filtros perdemos alguns municipios que não se enquadram nos respectivos filtros.\n",
    "<br>\n",
    "- Posso colocar o professor como meu reviewer da PR para subir para a main?\n",
    "<br>\n",
    "- Por que Indaiatuba,(2019, 2020, 2021) Nova Odessa (2019, 2020, 2021, 2022 - em todos os anos que serão estudados) e Elias Fausto (2019) não obtiveram retorno nos anos entre parênteses? (Dar uma pesquisada) \n",
    "<br>\n",
    "- Retirei os centavos para facilitar os calculos no valor da despesa, faz sentido?"
   ]
  }
 ],
 "metadata": {
  "kernelspec": {
   "display_name": "tcc",
   "language": "python",
   "name": "tcc"
  },
  "language_info": {
   "codemirror_mode": {
    "name": "ipython",
    "version": 3
   },
   "file_extension": ".py",
   "mimetype": "text/x-python",
   "name": "python",
   "nbconvert_exporter": "python",
   "pygments_lexer": "ipython3",
   "version": "3.8.10"
  }
 },
 "nbformat": 4,
 "nbformat_minor": 5
}
